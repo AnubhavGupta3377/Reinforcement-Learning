{
 "cells": [
  {
   "cell_type": "markdown",
   "metadata": {
    "colab_type": "text",
    "id": "du-B3NfH5i5C"
   },
   "source": [
    "# Deep Q-Networks (DQN) with Double Q-Learning"
   ]
  },
  {
   "cell_type": "markdown",
   "metadata": {
    "colab_type": "text",
    "id": "og9Q4TU85os5"
   },
   "source": [
    "#### Google Drive directory for project (Google Colab Specific)\n",
    "\n",
    "Required if you need to save the model checkpoints in google drive. I also save the replay memory after every few episodes."
   ]
  },
  {
   "cell_type": "code",
   "execution_count": 14,
   "metadata": {
    "colab": {
     "base_uri": "https://localhost:8080/",
     "height": 34
    },
    "colab_type": "code",
    "id": "RL0-2DnC5fK_",
    "outputId": "766e1594-978d-4a1a-9ff8-a4a44f8e7e33"
   },
   "outputs": [
    {
     "name": "stdout",
     "output_type": "stream",
     "text": [
      "Drive already mounted at /content/gdrive; to attempt to forcibly remount, call drive.mount(\"/content/gdrive\", force_remount=True).\n"
     ]
    }
   ],
   "source": [
    "from google.colab import drive\n",
    "drive.mount('/content/gdrive')"
   ]
  },
  {
   "cell_type": "markdown",
   "metadata": {
    "colab_type": "text",
    "id": "fzpYRM2m5vUk"
   },
   "source": [
    "#### Import Libraries"
   ]
  },
  {
   "cell_type": "code",
   "execution_count": 0,
   "metadata": {
    "colab": {},
    "colab_type": "code",
    "id": "PdJIjZju5r6b"
   },
   "outputs": [],
   "source": [
    "import numpy as np\n",
    "import pandas as pd\n",
    "import os\n",
    "import random\n",
    "import math\n",
    "from random import randrange\n",
    "import sys\n",
    "import psutil\n",
    "import tqdm\n",
    "from collections import deque, namedtuple\n",
    "from PIL import Image\n",
    "import cv2\n",
    "\n",
    "import torch\n",
    "import torch.nn as nn\n",
    "import torch.optim as optim\n",
    "import torchvision.transforms as T\n",
    "import torch.nn.functional as F\n",
    "\n",
    "import gym\n",
    "from gym import logger as gymlogger\n",
    "\n",
    "import matplotlib\n",
    "import matplotlib.pyplot as plt\n",
    "\n",
    "matplotlib.style.use('ggplot')\n",
    "gymlogger.set_level(40) #error only\n",
    "%matplotlib inline\n",
    "\n",
    "device = torch.device(\"cuda\" if torch.cuda.is_available() else \"cpu\")"
   ]
  },
  {
   "cell_type": "markdown",
   "metadata": {
    "colab_type": "text",
    "id": "VqfeKFMK6MWR"
   },
   "source": [
    "#### Environment, Constants and Model Parameters"
   ]
  },
  {
   "cell_type": "code",
   "execution_count": 16,
   "metadata": {
    "colab": {
     "base_uri": "https://localhost:8080/",
     "height": 68
    },
    "colab_type": "code",
    "id": "HrP59epOoY2u",
    "outputId": "dfadb210-826c-4aa9-a8ef-fbc788d183a7"
   },
   "outputs": [
    {
     "name": "stdout",
     "output_type": "stream",
     "text": [
      "Box(210, 160, 3)\n",
      "Discrete(4)\n",
      "['NOOP', 'FIRE', 'RIGHT', 'LEFT']\n"
     ]
    }
   ],
   "source": [
    "env = gym.make(\"BreakoutDeterministic-v4\").env\n",
    "\n",
    "print(env.observation_space)\n",
    "print(env.action_space)\n",
    "print(env.get_action_meanings())"
   ]
  },
  {
   "cell_type": "code",
   "execution_count": 0,
   "metadata": {
    "colab": {},
    "colab_type": "code",
    "id": "tz1rK3nfIt7J"
   },
   "outputs": [],
   "source": [
    "# Constants\n",
    "TRAIN = True\n",
    "\n",
    "TEST_MODULES = True # Whether to run test cases for individual modules\n",
    "INPUT_SHAPE = env.observation_space.shape # (210,160,3) For Atari Games\n",
    "PREPROCESSED_STATE_SHAPE = (84,84)\n",
    "NUM_ACTIONS = env.action_space.n\n",
    "\n",
    "# Parameters\n",
    "gamma = 0.99\n",
    "replay_memory_size = 800_000\n",
    "min_replay_memory_size = 50_000\n",
    "target_update_every = 30_000\n",
    "num_episodes = 20_000\n",
    "max_steps = 6_000_000\n",
    "epsilon_start = 1.0\n",
    "epsilon_end = 0.01\n",
    "num_steps_epsilon_decay = 1_000_000\n",
    "batch_size = 32\n",
    "repeat_action = 4\n",
    "model_save_freq = 1000 # Episodes\n",
    "exp_dir = \"/content/gdrive/My Drive/Colab Files/double_dqn_breakout\"\n",
    "\n",
    "if not os.path.exists(exp_dir):\n",
    "    os.makedirs(exp_dir)\n",
    "if not os.path.exists(os.path.join(exp_dir, 'models')):\n",
    "    os.makedirs(os.path.join(exp_dir, 'models'))"
   ]
  },
  {
   "cell_type": "markdown",
   "metadata": {
    "colab_type": "text",
    "id": "hgTCw-Vsypf_"
   },
   "source": [
    "#### Preprocess Atari Image"
   ]
  },
  {
   "cell_type": "code",
   "execution_count": 0,
   "metadata": {
    "colab": {},
    "colab_type": "code",
    "id": "Pg08EUznys29"
   },
   "outputs": [],
   "source": [
    "def preprocess(frame):\n",
    "    state = frame[50:200, 5:155, :] # For Breakout\n",
    "    state = cv2.cvtColor(state, cv2.COLOR_RGB2GRAY)\n",
    "    state = cv2.resize(state, PREPROCESSED_STATE_SHAPE, interpolation = cv2.INTER_AREA)\n",
    "    return np.expand_dims(state, 0)"
   ]
  },
  {
   "cell_type": "code",
   "execution_count": 19,
   "metadata": {
    "colab": {
     "base_uri": "https://localhost:8080/",
     "height": 285
    },
    "colab_type": "code",
    "id": "XZWWw6kIE1cR",
    "outputId": "ecc87c38-73e7-4c87-9b38-c247505a1ee3"
   },
   "outputs": [
    {
     "name": "stdout",
     "output_type": "stream",
     "text": [
      "Test: OK\n"
     ]
    },
    {
     "data": {
      "image/png": "[encoded data removed]",
      "text/plain": [
       "<Figure size 432x288 with 1 Axes>"
      ]
     },
     "metadata": {
      "needs_background": "light",
      "tags": []
     },
     "output_type": "display_data"
    }
   ],
   "source": [
    "def test_preprocessing():\n",
    "    frame = env.reset()\n",
    "    preprocessed_image = preprocess(frame)\n",
    "    assert preprocessed_image.shape==(1,84,84), \"Preprocessed image not of desired size\"\n",
    "    print(\"Test: OK\")\n",
    "\n",
    "if TEST_MODULES:\n",
    "    test_preprocessing()\n",
    "    \n",
    "    # Visualize one preprocessed frame\n",
    "    frame = env.reset()\n",
    "    plt.imshow(preprocess(frame).reshape((84,84)), cmap='gray')\n",
    "    plt.show()"
   ]
  },
  {
   "cell_type": "markdown",
   "metadata": {
    "colab_type": "text",
    "id": "zmqliBbIOtu1"
   },
   "source": [
    "#### Estimator Network\n",
    "- This network is used by both online network and target network\n",
    "- Both networks have different weights"
   ]
  },
  {
   "cell_type": "code",
   "execution_count": 0,
   "metadata": {
    "colab": {},
    "colab_type": "code",
    "id": "mYHMFwJ4iptS"
   },
   "outputs": [],
   "source": [
    "class EstimatorNetwork(nn.Module):\n",
    "    \"\"\"\n",
    "    Neural network used by online network and target network \n",
    "    \"\"\"\n",
    "    def __init__(self, env):\n",
    "        super(EstimatorNetwork, self).__init__()\n",
    "        self.env = env\n",
    "        num_actions = env.action_space.n\n",
    "\n",
    "        self.conv1 = nn.Conv2d(4, 32, kernel_size=8, stride=4)\n",
    "        nn.init.kaiming_normal_(self.conv1.weight, nonlinearity='relu')\n",
    "        nn.init.constant_(self.conv1.bias, 0)\n",
    "\n",
    "        self.conv2 = nn.Conv2d(32, 64, kernel_size=4, stride=2)\n",
    "        nn.init.kaiming_normal_(self.conv2.weight, nonlinearity='relu')\n",
    "        nn.init.constant_(self.conv2.bias, 0)\n",
    "        \n",
    "        self.conv3 = nn.Conv2d(64, 64, kernel_size=3, stride=1)\n",
    "        nn.init.kaiming_normal_(self.conv3.weight, nonlinearity='relu')\n",
    "        nn.init.constant_(self.conv3.bias, 0)\n",
    "        \n",
    "        self.linear1 = nn.Linear(3136, 512)\n",
    "        nn.init.kaiming_normal_(self.linear1.weight, nonlinearity='relu')\n",
    "\n",
    "        self.linear2 = nn.Linear(512, num_actions)\n",
    "        nn.init.kaiming_normal_(self.linear2.weight)\n",
    "        \n",
    "    def forward(self, x):\n",
    "        x = F.relu(self.conv1(x))\n",
    "        x = F.relu(self.conv2(x))\n",
    "        x = F.relu(self.conv3(x))\n",
    "        x = x.view(x.size(0), -1)\n",
    "        linear1_out = self.linear1(x)\n",
    "        return self.linear2(linear1_out)"
   ]
  },
  {
   "cell_type": "code",
   "execution_count": 21,
   "metadata": {
    "colab": {
     "base_uri": "https://localhost:8080/",
     "height": 34
    },
    "colab_type": "code",
    "id": "9IGyWtBWN3HO",
    "outputId": "0d661d9f-4449-4e8c-b099-5d726b4a7919"
   },
   "outputs": [
    {
     "name": "stdout",
     "output_type": "stream",
     "text": [
      "Test2: OK\n"
     ]
    }
   ],
   "source": [
    "# Test that the network actually learns\n",
    "def test_estimator_network():\n",
    "    estimator = EstimatorNetwork(env).to(device)\n",
    "    frame = env.reset()\n",
    "    observation = preprocess(frame)\n",
    "    observation = np.vstack([observation] * 4)\n",
    "    observations = np.array([observation] * 2)\n",
    "    observations = torch.from_numpy(observations / 255.0).to(device).float()\n",
    "\n",
    "    y = torch.tensor([[10.0,10.0,10.0,10.0],[10.0,10.0,10.0,10.0]], device=device)\n",
    "    optimizer = torch.optim.Adam(estimator.parameters(), lr=0.01)\n",
    "    for i in range(300):\n",
    "        predictions = estimator(observations)\n",
    "        loss = F.smooth_l1_loss(predictions, y)\n",
    "        optimizer.zero_grad()\n",
    "        loss.backward()\n",
    "        optimizer.step()\n",
    "\n",
    "    new_preds = estimator(observations)\n",
    "    assert max(new_preds[0]) < 11 and min(new_preds[0]) > 9, \"Test failed for update\"\n",
    "    assert max(new_preds[1]) < 11 and min(new_preds[1]) > 9, \"Test failed for update\"\n",
    "    print(\"Test2: OK\")\n",
    "\n",
    "if TEST_MODULES: test_estimator_network()"
   ]
  },
  {
   "cell_type": "markdown",
   "metadata": {
    "colab_type": "text",
    "id": "09qbJ-Nk2XQL"
   },
   "source": [
    "#### Replay Memory"
   ]
  },
  {
   "cell_type": "code",
   "execution_count": 0,
   "metadata": {
    "colab": {},
    "colab_type": "code",
    "id": "A8KqmPAR2a1x"
   },
   "outputs": [],
   "source": [
    "class ReplayMemory:\n",
    "    def __init__(self, capacity, min_size, frame_width, frame_height):\n",
    "        self.capacity = capacity\n",
    "        self.min_size = min_size\n",
    "        self.frame_width = frame_width\n",
    "        self.frame_height = frame_height\n",
    "        self.tail = 0\n",
    "        self.size = 0\n",
    "        self.frames = np.empty((capacity, frame_width, frame_height), dtype=np.uint8)\n",
    "        self.actions = np.empty(capacity, dtype=np.int32)\n",
    "        self.rewards = np.empty(capacity, dtype=np.float32)\n",
    "        self.terminal_flags = np.empty(capacity, dtype=np.bool)\n",
    "\n",
    "    def add_experience(self, frame, action, reward, done):\n",
    "        self.frames[self.tail,...] = frame.reshape((self.frame_width, self.frame_height))\n",
    "        self.actions[self.tail] = action\n",
    "        self.rewards[self.tail] = reward\n",
    "        self.terminal_flags[self.tail] = done\n",
    "        self.tail = (self.tail+1) % self.capacity\n",
    "        self.size = min(self.size+1, self.capacity)\n",
    "\n",
    "    def get_state(self, index, prev_frames):\n",
    "        \"\"\"\n",
    "        Get states stacking frames ending at index\n",
    "\n",
    "        Args:\n",
    "            index: index for which to obtain the state\n",
    "        \"\"\"\n",
    "        return self.frames[index-prev_frames+1:index+1,...]\n",
    "\n",
    "    def get_valid_index(self, prev_frames):\n",
    "        \"\"\"\n",
    "        Returns a valid index from the replay memory. A valid index is one which doesn't terminate here.\n",
    "        \"\"\"\n",
    "        while True:\n",
    "            index = randrange(prev_frames-1, self.size-1)\n",
    "            if index < prev_frames-1:\n",
    "                continue\n",
    "            if index >= self.tail-1 and index-prev_frames+1 < self.tail:\n",
    "                continue\n",
    "            if self.terminal_flags[index-prev_frames+1:index+1].any():\n",
    "                continue\n",
    "            break\n",
    "        return index\n",
    "\n",
    "    def get_sample(self, batch_size, prev_frames=4):\n",
    "        states = np.empty((batch_size, prev_frames, self.frame_width, self.frame_height), dtype=np.uint8)\n",
    "        next_states = np.empty((batch_size, prev_frames, self.frame_width, self.frame_height), dtype=np.uint8)\n",
    "        indices = np.empty((batch_size,), dtype=np.int32)\n",
    "        for i in range(batch_size):\n",
    "            index = self.get_valid_index(prev_frames)\n",
    "            indices[i] = index\n",
    "            states[i,...] = self.get_state(index, prev_frames)\n",
    "            next_states[i,...] = self.get_state(index+1, prev_frames)\n",
    "        return states, self.actions[indices], self.rewards[indices], next_states, self.terminal_flags[indices]\n",
    "\n",
    "    def filled_minimum(self):\n",
    "        return self.size >= self.min_size\n",
    "\n",
    "    def save_to_disk(self, filename, save_size=200000):\n",
    "        save_size = min(save_size, self.size)\n",
    "        replay_checkpoint = {'tail': save_size,\n",
    "                             'size': save_size,\n",
    "                             'frames': self.frames[self.size-save_size:self.size,...],\n",
    "                             'actions': self.actions[self.size-save_size:self.size],\n",
    "                             'rewards': self.rewards[self.size-save_size:self.size],\n",
    "                             'terminal_flags': self.terminal_flags[self.size-save_size:self.size]}\n",
    "        torch.save(replay_checkpoint, filename)\n",
    "\n",
    "    def load_from_disk(self, filename):\n",
    "        replay_checkpoint = torch.load(filename)\n",
    "        self.tail = replay_checkpoint['tail']\n",
    "        self.size = replay_checkpoint['size']\n",
    "        self.frames[:self.tail,...] = replay_checkpoint['frames']\n",
    "        self.actions[:self.tail] = replay_checkpoint['actions']\n",
    "        self.rewards[:self.tail] = replay_checkpoint['rewards']\n",
    "        self.terminal_flags[:self.tail] = replay_checkpoint['terminal_flags']"
   ]
  },
  {
   "cell_type": "markdown",
   "metadata": {
    "colab_type": "text",
    "id": "BVtedR8SO45Z"
   },
   "source": [
    "#### Double DQN Agent"
   ]
  },
  {
   "cell_type": "code",
   "execution_count": 0,
   "metadata": {
    "colab": {},
    "colab_type": "code",
    "id": "_xTRVMUT_QFT"
   },
   "outputs": [],
   "source": [
    "def get_epsilon_greedy_policy(estimator):\n",
    "    \"\"\"\n",
    "    Make an epsilon-greedy policy from given Q-values\n",
    "    Returns:\n",
    "        policy: epsilon-greedy policy which takes random action with\n",
    "                probability epsilon/num_actions, otherwise takes\n",
    "                greedy action\n",
    "    \"\"\"\n",
    "    def policy(state, epsilon):\n",
    "        with torch.no_grad():\n",
    "            q_values = estimator(state)\n",
    "        num_actions = q_values.size(1)\n",
    "        greedy_action = torch.argmax(q_values).item()\n",
    "        action_probs = np.ones((num_actions)) * (epsilon/num_actions)\n",
    "        action_probs[greedy_action] += 1-epsilon\n",
    "        return action_probs\n",
    "    \n",
    "    return policy"
   ]
  },
  {
   "cell_type": "code",
   "execution_count": 0,
   "metadata": {
    "colab": {},
    "colab_type": "code",
    "id": "853mlm5DoefU"
   },
   "outputs": [],
   "source": [
    "class DoubleDQNAgent:\n",
    "    def __init__(self, env, replay_memory_size, min_replay_memory_size, exp_dir):\n",
    "        \"\"\"\n",
    "        Initialize the deep Q-learning agent. Main components of DQN include\n",
    "        - two estimator networks\n",
    "            1. Online network\n",
    "            2. Target network\n",
    "        - replay memory\n",
    "\n",
    "        Args:\n",
    "            replay_memory_size: Size of replay memory\n",
    "            min_replay_memory_size: Minimum size of replay memory\n",
    "            exp_dir: Experiemnt directory\n",
    "        \"\"\"\n",
    "\n",
    "        # DQN components\n",
    "        self.env = env\n",
    "        self.online_network = EstimatorNetwork(env).to(device)\n",
    "        self.target_network = EstimatorNetwork(env).to(device)\n",
    "        self.replay_memory = ReplayMemory(capacity=replay_memory_size,\n",
    "                                          min_size=min_replay_memory_size,\n",
    "                                          frame_width=PREPROCESSED_STATE_SHAPE[0],\n",
    "                                          frame_height=PREPROCESSED_STATE_SHAPE[1])\n",
    "        self.copy_network_weights()\n",
    "        self.target_network.eval()\n",
    "\n",
    "        # Optimizer to be used for training\n",
    "        self.optimizer = torch.optim.Adam(self.online_network.parameters(), lr=0.00003)\n",
    "        self.loss = torch.nn.SmoothL1Loss()\n",
    "        self.exp_dir = exp_dir\n",
    "\n",
    "    def copy_network_weights(self):\n",
    "        self.target_network.load_state_dict(self.online_network.state_dict())\n",
    "\n",
    "    def create_checkpoint(self, episode, stats):\n",
    "        model_dir = os.path.join(exp_dir, \"models\")\n",
    "        model_filename = os.path.join(model_dir, \"model_{}.pt\".format(episode))\n",
    "        optimizer_filename = os.path.join(model_dir, \"optimizer_{}.pt\".format(episode))\n",
    "        stats_filename = os.path.join(exp_dir, \"stats_{}.pt\".format(episode))\n",
    "        replay_filename = os.path.join(exp_dir, \"replay_{}.pt\".format(episode))\n",
    "        try:\n",
    "            torch.save(self.online_network.state_dict(), model_filename)\n",
    "            torch.save(self.optimizer.state_dict(), optimizer_filename)\n",
    "            torch.save(stats, stats_filename)\n",
    "            self.replay_memory.save_to_disk(replay_filename)\n",
    "            print(\"\\nCheckpoint created for episode {}\".format(episode))\n",
    "        except:\n",
    "            print (\"\\nCouldn't create checkpoint.\")\n",
    "\n",
    "    def load_checkpoint(self, episode):\n",
    "        model_dir = os.path.join(exp_dir, \"models\")\n",
    "        model_filename = os.path.join(model_dir, \"model_{}.pt\".format(episode))\n",
    "        optimizer_filename = os.path.join(model_dir, \"optimizer_{}.pt\".format(episode))\n",
    "        stats_filename = os.path.join(exp_dir, \"stats_{}.pt\".format(episode))\n",
    "        replay_filename = os.path.join(exp_dir, \"replay_{}.pt\".format(episode))\n",
    "        try:\n",
    "            self.online_network.load_state_dict(torch.load(model_filename, map_location=device))\n",
    "            self.optimizer.load_state_dict(torch.load(optimizer_filename, map_location=device))\n",
    "            stats = torch.load(stats_filename)\n",
    "            self.replay_memory.load_from_disk(replay_filename)\n",
    "            print(\"\\nCheckpoint loaded for episode {}\".format(episode))\n",
    "        except:\n",
    "            print (\"\\nCouldn't load checkpoint.\")\n",
    "            return 0\n",
    "        self.copy_network_weights()\n",
    "        return stats['total_steps']+1\n",
    "\n",
    "    def train(self, gamma, target_update_every, num_episodes, max_steps, epsilon_start,\n",
    "              num_steps_epsilon_decay, epsilon_end, batch_size, repeat_action,\n",
    "              model_save_freq, load_from_checkpoint=False, last_episode=0):\n",
    "        \"\"\"\n",
    "        Trains the DQN Agent\n",
    "\n",
    "        Args:\n",
    "            gamma: Discount Factor\n",
    "            target_update_every: Copy weights from online network to target\n",
    "                                 network after this many (time) steps\n",
    "            num_episodes: Maximum number of episodes to train\n",
    "            max_steps: Maximum number of times to train\n",
    "            epsilon_start: Initial epsilon for epsilon-greedy policy\n",
    "            epsilon_end: Mininum value epsilon can go to\n",
    "            num_steps_epsilon_decay: Use epsilon decay for this many steps\n",
    "            batch_size: Batch size to sample from replay memory\n",
    "            repeat_action: Number of frames to repeat the last action\n",
    "            model_save_freq: Save the model and replay memory to disk after this many episodes\n",
    "            load_from_checkpoint: Whether to load model from checkpoint\n",
    "            last_episode: Number of episodes the agent was already trained on.\n",
    "                          Used for checkpoint name and initialize model weights\n",
    "        \"\"\"\n",
    "\n",
    "        Transition = namedtuple(\"Transition\", [\"state\", \"action\", \"reward\", \"next_state\", \"done\"])\n",
    "        \n",
    "        policy = get_epsilon_greedy_policy(self.target_network)\n",
    "        epsilons = np.linspace(epsilon_start, epsilon_end, num_steps_epsilon_decay)\n",
    "        total_steps = 0\n",
    "\n",
    "        if load_from_checkpoint:\n",
    "            total_steps = self.load_checkpoint(last_episode)\n",
    "\n",
    "        stats = {'starting_episode': last_episode+1,\n",
    "                 'epsilon': [],\n",
    "                 'training_losses': [],\n",
    "                 'episode_lengths': [],\n",
    "                 'episode_rewards': [],\n",
    "                 'total_steps': total_steps}\n",
    "\n",
    "        replay_memory_populated = False\n",
    "        if self.replay_memory.filled_minimum():\n",
    "            replay_memory_populated = True\n",
    "        else:\n",
    "            print(\"\\nFilling up replay memory...\")\n",
    "        \n",
    "        episode_reward = 0\n",
    "        episode_length = 0\n",
    "        recent_rewards = deque(maxlen=100)\n",
    "        max_since_last = -float('inf')\n",
    "        all_episodes = tqdm.tqdm(range(last_episode + 1, num_episodes + 1), unit='episode', position=0, leave=True)\n",
    "        epsilon = epsilon_start\n",
    "        for episode_num in all_episodes:\n",
    "            recent_mean_score = np.round(np.mean(recent_rewards), 2) if len(recent_rewards) > 0 else 0.0\n",
    "            all_episodes.set_description(\"Episode Score: {}\".format(episode_reward))\n",
    "            total_loss = 0\n",
    "            episode_reward = 0\n",
    "            episode_length = 0\n",
    "\n",
    "            if episode_num % 100 == 0:\n",
    "                print(\"\\nTraining Steps: {}, Epsilon: {}, Recent Avg Score: {}, Recent Max Score: {}\\n\"\\\n",
    "                                         .format(total_steps, np.round(epsilon, 4), recent_mean_score, max_since_last))\n",
    "                max_since_last = -float('inf')\n",
    "\n",
    "            frame = self.env.reset()\n",
    "            observation = preprocess(frame)\n",
    "            state = np.vstack([observation] * 4)\n",
    "\n",
    "            while True: # Until eipsode finishes\n",
    "                epsilon = epsilon_end + (epsilon_start - epsilon_end) * math.exp(-1. * total_steps / num_steps_epsilon_decay)\n",
    "\n",
    "                # Choose and take action based on above policy\n",
    "                action_probs = policy(torch.from_numpy(state / 255.0).float().to(device).unsqueeze(0), epsilon)\n",
    "                action = np.random.choice(np.arange(len(action_probs)), p=action_probs)\n",
    "\n",
    "                # Take (repeat_action) steps into the environment (One hack to speed up training involved)\n",
    "                lives_before = self.env.ale.lives()\n",
    "                next_frame, reward, done, info = self.env.step(action)\n",
    "                next_observation = preprocess(next_frame)\n",
    "                lives_after = self.env.ale.lives()\n",
    "                # Losing life terminates the episode\n",
    "                replay_done = done if lives_before <= lives_after else True\n",
    "\n",
    "                # Update replay memory\n",
    "                self.replay_memory.add_experience(observation,action,reward,replay_done)\n",
    "                observation = next_observation\n",
    "                state = np.append(state[1:,:,:], next_observation, axis=0)\n",
    "\n",
    "                # Move onto next step if replay memory not filled with minimum experience\n",
    "                # No training happens in this case\n",
    "                if not self.replay_memory.filled_minimum():\n",
    "                    if done: break\n",
    "                    continue\n",
    "\n",
    "                # Training starts now\n",
    "                if not replay_memory_populated:\n",
    "                    print(\"\\nReplay memory filled with minimum experience.\")\n",
    "                    replay_memory_populated = True\n",
    "                    break\n",
    "\n",
    "                total_steps += 1\n",
    "                \n",
    "                # Update Stats\n",
    "                episode_reward += reward\n",
    "                episode_length += 1\n",
    "\n",
    "                # Copy weights from online network to target network after some time\n",
    "                if total_steps % target_update_every == 0:\n",
    "                    self.copy_network_weights()\n",
    "\n",
    "                if total_steps % repeat_action != 0:\n",
    "                    if done: break\n",
    "                    continue\n",
    "\n",
    "                # Sample a random batch of experiences from replay memory\n",
    "                states_batch, actions_batch, rewards_batch, next_states_batch, done_batch = self.replay_memory.get_sample(batch_size, prev_frames=4)\n",
    "                states_batch = torch.from_numpy(states_batch/255.0).float().to(device)\n",
    "                actions_batch = torch.from_numpy(actions_batch).to(device)\n",
    "                rewards_batch = torch.from_numpy(rewards_batch).to(device)\n",
    "                next_states_batch = torch.from_numpy(next_states_batch/255.0).float().to(device)\n",
    "                done_batch = torch.from_numpy(done_batch).to(device)\n",
    "\n",
    "                #################################### Double DQN ######################################\n",
    "                batch_size = states_batch.size(0)\n",
    "                \n",
    "                # Get q_values of greedy targets for this batch\n",
    "                with torch.no_grad():\n",
    "                    next_q_values = self.online_network(next_states_batch)\n",
    "                best_actions = torch.max(next_q_values, 1)[1]\n",
    "                best_action_indices = torch.arange(batch_size, device=device) * next_q_values.size(1) + best_actions\n",
    "                with torch.no_grad():\n",
    "                    next_q_values_target = self.target_network(next_states_batch)\n",
    "                targets_batch = rewards_batch + (~done_batch) * gamma *\\\n",
    "                                torch.gather(next_q_values_target.view(-1), 0, best_action_indices)\n",
    "\n",
    "                predictions = self.online_network(states_batch)\n",
    "\n",
    "                # Get the q_values of only current actions taken from states\n",
    "                action_indices = torch.arange(batch_size, device=device) * predictions.size(1) + actions_batch\n",
    "                action_predictions = torch.gather(predictions.view(-1), 0, action_indices)\n",
    "                #####################################################################################\n",
    "\n",
    "                # Compute loss and optimize model\n",
    "                loss = self.loss(targets_batch, action_predictions)\n",
    "                self.optimizer.zero_grad()\n",
    "                loss.backward()\n",
    "                for param in self.online_network.parameters():\n",
    "                    param.grad.data.clamp_(-1, 1)\n",
    "                self.optimizer.step()\n",
    "\n",
    "                # Update Stats\n",
    "                total_loss += loss.item()\n",
    "\n",
    "                if done: break\n",
    "\n",
    "            if replay_memory_populated and episode_length > 0:\n",
    "                # Update stats\n",
    "                stats['epsilon'].append(epsilon)\n",
    "                stats['training_losses'].append(total_loss / episode_length)\n",
    "                stats['episode_rewards'].append(episode_reward)\n",
    "                stats['episode_lengths'].append(episode_length)\n",
    "                stats['total_steps'] = total_steps\n",
    "                recent_rewards.append(episode_reward)\n",
    "                max_since_last = max(max_since_last, episode_reward)\n",
    "\n",
    "            if episode_num % model_save_freq == 0 or total_steps >= max_steps or episode_num == num_episodes:\n",
    "                self.create_checkpoint(episode_num, stats)\n",
    "            if total_steps >= max_steps:\n",
    "                break\n",
    "\n",
    "        print(\"\\nFinished\")\n",
    "        return stats"
   ]
  },
  {
   "cell_type": "markdown",
   "metadata": {
    "colab_type": "text",
    "id": "96FMwZTgubf6"
   },
   "source": [
    "#### Start training the agent\n",
    "Now, it's time to actually run the agent and see how it performs."
   ]
  },
  {
   "cell_type": "code",
   "execution_count": 12,
   "metadata": {
    "colab": {
     "base_uri": "https://localhost:8080/",
     "height": 1000
    },
    "colab_type": "code",
    "id": "R8NKznBCLB2_",
    "outputId": "a9164768-000e-4cf8-e922-fb66e175ac5b"
   },
   "outputs": [
    {
     "name": "stderr",
     "output_type": "stream",
     "text": [
      "Episode Score: 0:   0%|          | 0/12000 [00:00<?, ?episode/s]"
     ]
    },
    {
     "name": "stdout",
     "output_type": "stream",
     "text": [
      "\n",
      "Checkpoint loaded for episode 8000\n"
     ]
    },
    {
     "name": "stderr",
     "output_type": "stream",
     "text": [
      "Episode Score: 23.0:   1%|          | 99/12000 [06:42<15:59:19,  4.84s/episode]"
     ]
    },
    {
     "name": "stdout",
     "output_type": "stream",
     "text": [
      "\n",
      "Training Steps: 2637221, Epsilon: 0.0808, Recent Avg Score: 17.96, Recent Max Score: 36.0\n",
      "\n"
     ]
    },
    {
     "name": "stderr",
     "output_type": "stream",
     "text": [
      "Episode Score: 27.0:   2%|▏         | 199/12000 [13:56<17:01:32,  5.19s/episode]"
     ]
    },
    {
     "name": "stdout",
     "output_type": "stream",
     "text": [
      "\n",
      "Training Steps: 2705353, Epsilon: 0.0762, Recent Avg Score: 20.88, Recent Max Score: 47.0\n",
      "\n"
     ]
    },
    {
     "name": "stderr",
     "output_type": "stream",
     "text": [
      "Episode Score: 11.0:   2%|▏         | 299/12000 [21:03<11:27:23,  3.52s/episode]"
     ]
    },
    {
     "name": "stdout",
     "output_type": "stream",
     "text": [
      "\n",
      "Training Steps: 2773209, Epsilon: 0.0718, Recent Avg Score: 19.8, Recent Max Score: 36.0\n",
      "\n"
     ]
    },
    {
     "name": "stderr",
     "output_type": "stream",
     "text": [
      "Episode Score: 20.0:   3%|▎         | 399/12000 [27:56<13:57:09,  4.33s/episode]"
     ]
    },
    {
     "name": "stdout",
     "output_type": "stream",
     "text": [
      "\n",
      "Training Steps: 2840392, Epsilon: 0.0678, Recent Avg Score: 22.06, Recent Max Score: 236.0\n",
      "\n"
     ]
    },
    {
     "name": "stderr",
     "output_type": "stream",
     "text": [
      "Episode Score: 16.0:   4%|▍         | 499/12000 [35:03<11:36:25,  3.63s/episode]"
     ]
    },
    {
     "name": "stdout",
     "output_type": "stream",
     "text": [
      "\n",
      "Training Steps: 2910381, Epsilon: 0.0639, Recent Avg Score: 20.32, Recent Max Score: 39.0\n",
      "\n"
     ]
    },
    {
     "name": "stderr",
     "output_type": "stream",
     "text": [
      "Episode Score: 14.0:   5%|▍         | 599/12000 [41:48<12:54:43,  4.08s/episode]"
     ]
    },
    {
     "name": "stdout",
     "output_type": "stream",
     "text": [
      "\n",
      "Training Steps: 2977016, Epsilon: 0.0604, Recent Avg Score: 19.91, Recent Max Score: 38.0\n",
      "\n"
     ]
    },
    {
     "name": "stderr",
     "output_type": "stream",
     "text": [
      "Episode Score: 16.0:   6%|▌         | 699/12000 [49:18<15:07:21,  4.82s/episode]"
     ]
    },
    {
     "name": "stdout",
     "output_type": "stream",
     "text": [
      "\n",
      "Training Steps: 3051061, Epsilon: 0.0568, Recent Avg Score: 23.27, Recent Max Score: 50.0\n",
      "\n"
     ]
    },
    {
     "name": "stderr",
     "output_type": "stream",
     "text": [
      "Episode Score: 31.0:   7%|▋         | 799/12000 [56:16<15:46:07,  5.07s/episode]"
     ]
    },
    {
     "name": "stdout",
     "output_type": "stream",
     "text": [
      "\n",
      "Training Steps: 3119970, Epsilon: 0.0537, Recent Avg Score: 20.14, Recent Max Score: 41.0\n",
      "\n"
     ]
    },
    {
     "name": "stderr",
     "output_type": "stream",
     "text": [
      "Episode Score: 15.0:   7%|▋         | 899/12000 [1:03:58<13:37:09,  4.42s/episode]"
     ]
    },
    {
     "name": "stdout",
     "output_type": "stream",
     "text": [
      "\n",
      "Training Steps: 3195339, Epsilon: 0.0505, Recent Avg Score: 23.01, Recent Max Score: 45.0\n",
      "\n"
     ]
    },
    {
     "name": "stderr",
     "output_type": "stream",
     "text": [
      "Episode Score: 16.0:   8%|▊         | 999/12000 [1:11:33<12:32:54,  4.11s/episode]"
     ]
    },
    {
     "name": "stdout",
     "output_type": "stream",
     "text": [
      "\n",
      "Training Steps: 3269089, Epsilon: 0.0477, Recent Avg Score: 21.8, Recent Max Score: 38.0\n",
      "\n"
     ]
    },
    {
     "name": "stderr",
     "output_type": "stream",
     "text": [
      "Episode Score: 13.0:   8%|▊         | 1000/12000 [1:11:47<22:05:34,  7.23s/episode]"
     ]
    },
    {
     "name": "stdout",
     "output_type": "stream",
     "text": [
      "\n",
      "Checkpoint created for episode 9000\n"
     ]
    },
    {
     "name": "stderr",
     "output_type": "stream",
     "text": [
      "Episode Score: 27.0:   9%|▉         | 1099/12000 [1:19:14<14:07:09,  4.66s/episode]"
     ]
    },
    {
     "name": "stdout",
     "output_type": "stream",
     "text": [
      "\n",
      "Training Steps: 3340805, Epsilon: 0.0451, Recent Avg Score: 22.09, Recent Max Score: 57.0\n",
      "\n"
     ]
    },
    {
     "name": "stderr",
     "output_type": "stream",
     "text": [
      "Episode Score: 16.0:  10%|▉         | 1199/12000 [1:27:20<14:12:48,  4.74s/episode]"
     ]
    },
    {
     "name": "stdout",
     "output_type": "stream",
     "text": [
      "\n",
      "Training Steps: 3419087, Epsilon: 0.0424, Recent Avg Score: 24.76, Recent Max Score: 50.0\n",
      "\n"
     ]
    },
    {
     "name": "stderr",
     "output_type": "stream",
     "text": [
      "Episode Score: 17.0:  11%|█         | 1299/12000 [1:35:01<12:29:24,  4.20s/episode]"
     ]
    },
    {
     "name": "stdout",
     "output_type": "stream",
     "text": [
      "\n",
      "Training Steps: 3493203, Epsilon: 0.0401, Recent Avg Score: 23.58, Recent Max Score: 50.0\n",
      "\n"
     ]
    },
    {
     "name": "stderr",
     "output_type": "stream",
     "text": [
      "Episode Score: 32.0:  12%|█▏        | 1399/12000 [1:43:02<13:55:51,  4.73s/episode]"
     ]
    },
    {
     "name": "stdout",
     "output_type": "stream",
     "text": [
      "\n",
      "Training Steps: 3570520, Epsilon: 0.0379, Recent Avg Score: 24.96, Recent Max Score: 48.0\n",
      "\n"
     ]
    },
    {
     "name": "stderr",
     "output_type": "stream",
     "text": [
      "Episode Score: 30.0:  12%|█▏        | 1499/12000 [1:51:17<17:01:55,  5.84s/episode]"
     ]
    },
    {
     "name": "stdout",
     "output_type": "stream",
     "text": [
      "\n",
      "Training Steps: 3650718, Epsilon: 0.0357, Recent Avg Score: 26.67, Recent Max Score: 61.0\n",
      "\n"
     ]
    },
    {
     "name": "stderr",
     "output_type": "stream",
     "text": [
      "Episode Score: 10.0:  13%|█▎        | 1599/12000 [1:59:00<9:48:08,  3.39s/episode]"
     ]
    },
    {
     "name": "stdout",
     "output_type": "stream",
     "text": [
      "\n",
      "Training Steps: 3725832, Epsilon: 0.0339, Recent Avg Score: 23.3, Recent Max Score: 50.0\n",
      "\n"
     ]
    },
    {
     "name": "stderr",
     "output_type": "stream",
     "text": [
      "Episode Score: 31.0:  14%|█▍        | 1699/12000 [2:05:49<13:42:37,  4.79s/episode]"
     ]
    },
    {
     "name": "stdout",
     "output_type": "stream",
     "text": [
      "\n",
      "Training Steps: 3793421, Epsilon: 0.0323, Recent Avg Score: 20.36, Recent Max Score: 53.0\n",
      "\n"
     ]
    },
    {
     "name": "stderr",
     "output_type": "stream",
     "text": [
      "Episode Score: 18.0:  15%|█▍        | 1799/12000 [2:13:16<11:34:47,  4.09s/episode]"
     ]
    },
    {
     "name": "stdout",
     "output_type": "stream",
     "text": [
      "\n",
      "Training Steps: 3867274, Epsilon: 0.0307, Recent Avg Score: 21.64, Recent Max Score: 52.0\n",
      "\n"
     ]
    },
    {
     "name": "stderr",
     "output_type": "stream",
     "text": [
      "Episode Score: 24.0:  16%|█▌        | 1899/12000 [2:21:01<12:23:39,  4.42s/episode]"
     ]
    },
    {
     "name": "stdout",
     "output_type": "stream",
     "text": [
      "\n",
      "Training Steps: 3944313, Epsilon: 0.0292, Recent Avg Score: 24.22, Recent Max Score: 40.0\n",
      "\n"
     ]
    },
    {
     "name": "stderr",
     "output_type": "stream",
     "text": [
      "Episode Score: 29.0:  17%|█▋        | 1999/12000 [2:28:00<11:02:58,  3.98s/episode]"
     ]
    },
    {
     "name": "stdout",
     "output_type": "stream",
     "text": [
      "\n",
      "Training Steps: 4013848, Epsilon: 0.0279, Recent Avg Score: 20.21, Recent Max Score: 45.0\n",
      "\n"
     ]
    },
    {
     "name": "stderr",
     "output_type": "stream",
     "text": [
      "Episode Score: 13.0:  17%|█▋        | 2000/12000 [2:28:14<18:56:27,  6.82s/episode]"
     ]
    },
    {
     "name": "stdout",
     "output_type": "stream",
     "text": [
      "\n",
      "Checkpoint created for episode 10000\n"
     ]
    },
    {
     "name": "stderr",
     "output_type": "stream",
     "text": [
      "Episode Score: 24.0:  17%|█▋        | 2099/12000 [2:35:40<15:39:47,  5.70s/episode]"
     ]
    },
    {
     "name": "stdout",
     "output_type": "stream",
     "text": [
      "\n",
      "Training Steps: 4091932, Epsilon: 0.0265, Recent Avg Score: 24.78, Recent Max Score: 59.0\n",
      "\n"
     ]
    },
    {
     "name": "stderr",
     "output_type": "stream",
     "text": [
      "Episode Score: 26.0:  18%|█▊        | 2199/12000 [2:44:01<13:09:52,  4.84s/episode]"
     ]
    },
    {
     "name": "stdout",
     "output_type": "stream",
     "text": [
      "\n",
      "Training Steps: 4179410, Epsilon: 0.0252, Recent Avg Score: 28.86, Recent Max Score: 55.0\n",
      "\n"
     ]
    },
    {
     "name": "stderr",
     "output_type": "stream",
     "text": [
      "Episode Score: 23.0:  19%|█▉        | 2299/12000 [2:52:25<12:19:43,  4.58s/episode]"
     ]
    },
    {
     "name": "stdout",
     "output_type": "stream",
     "text": [
      "\n",
      "Training Steps: 4267922, Epsilon: 0.0239, Recent Avg Score: 30.36, Recent Max Score: 57.0\n",
      "\n"
     ]
    },
    {
     "name": "stderr",
     "output_type": "stream",
     "text": [
      "Episode Score: 12.0:  20%|█▉        | 2399/12000 [3:00:24<8:28:33,  3.18s/episode]"
     ]
    },
    {
     "name": "stdout",
     "output_type": "stream",
     "text": [
      "\n",
      "Training Steps: 4351691, Epsilon: 0.0228, Recent Avg Score: 27.6, Recent Max Score: 52.0\n",
      "\n"
     ]
    },
    {
     "name": "stderr",
     "output_type": "stream",
     "text": [
      "Episode Score: 28.0:  21%|██        | 2499/12000 [3:06:10<15:04:30,  5.71s/episode]"
     ]
    },
    {
     "name": "stdout",
     "output_type": "stream",
     "text": [
      "\n",
      "Training Steps: 4412147, Epsilon: 0.022, Recent Avg Score: 16.79, Recent Max Score: 48.0\n",
      "\n"
     ]
    },
    {
     "name": "stderr",
     "output_type": "stream",
     "text": [
      "Episode Score: 27.0:  22%|██▏       | 2599/12000 [3:14:38<12:44:29,  4.88s/episode]"
     ]
    },
    {
     "name": "stdout",
     "output_type": "stream",
     "text": [
      "\n",
      "Training Steps: 4500191, Epsilon: 0.021, Recent Avg Score: 28.24, Recent Max Score: 50.0\n",
      "\n"
     ]
    },
    {
     "name": "stderr",
     "output_type": "stream",
     "text": [
      "Episode Score: 40.0:  22%|██▏       | 2699/12000 [3:23:30<13:53:29,  5.38s/episode]"
     ]
    },
    {
     "name": "stdout",
     "output_type": "stream",
     "text": [
      "\n",
      "Training Steps: 4592440, Epsilon: 0.02, Recent Avg Score: 28.33, Recent Max Score: 55.0\n",
      "\n"
     ]
    },
    {
     "name": "stderr",
     "output_type": "stream",
     "text": [
      "Episode Score: 36.0:  23%|██▎       | 2799/12000 [3:32:26<12:03:11,  4.72s/episode]"
     ]
    },
    {
     "name": "stdout",
     "output_type": "stream",
     "text": [
      "\n",
      "Training Steps: 4684744, Epsilon: 0.0191, Recent Avg Score: 30.53, Recent Max Score: 66.0\n",
      "\n"
     ]
    },
    {
     "name": "stderr",
     "output_type": "stream",
     "text": [
      "Episode Score: 26.0:  24%|██▍       | 2899/12000 [3:41:24<14:58:30,  5.92s/episode]"
     ]
    },
    {
     "name": "stdout",
     "output_type": "stream",
     "text": [
      "\n",
      "Training Steps: 4777795, Epsilon: 0.0183, Recent Avg Score: 33.96, Recent Max Score: 63.0\n",
      "\n"
     ]
    },
    {
     "name": "stderr",
     "output_type": "stream",
     "text": [
      "Episode Score: 27.0:  25%|██▍       | 2999/12000 [3:51:14<14:34:27,  5.83s/episode]"
     ]
    },
    {
     "name": "stdout",
     "output_type": "stream",
     "text": [
      "\n",
      "Training Steps: 4879322, Epsilon: 0.0175, Recent Avg Score: 31.26, Recent Max Score: 62.0\n",
      "\n"
     ]
    },
    {
     "name": "stderr",
     "output_type": "stream",
     "text": [
      "Episode Score: 46.0:  25%|██▌       | 3000/12000 [3:51:32<23:56:47,  9.58s/episode]"
     ]
    },
    {
     "name": "stdout",
     "output_type": "stream",
     "text": [
      "\n",
      "Checkpoint created for episode 11000\n"
     ]
    },
    {
     "name": "stderr",
     "output_type": "stream",
     "text": [
      "Episode Score: 31.0:  26%|██▌       | 3099/12000 [4:00:51<15:19:41,  6.20s/episode]"
     ]
    },
    {
     "name": "stdout",
     "output_type": "stream",
     "text": [
      "\n",
      "Training Steps: 4976816, Epsilon: 0.0168, Recent Avg Score: 36.9, Recent Max Score: 70.0\n",
      "\n"
     ]
    },
    {
     "name": "stderr",
     "output_type": "stream",
     "text": [
      "Episode Score: 32.0:  27%|██▋       | 3199/12000 [4:08:56<12:29:32,  5.11s/episode]"
     ]
    },
    {
     "name": "stdout",
     "output_type": "stream",
     "text": [
      "\n",
      "Training Steps: 5061258, Epsilon: 0.0163, Recent Avg Score: 30.04, Recent Max Score: 55.0\n",
      "\n"
     ]
    },
    {
     "name": "stderr",
     "output_type": "stream",
     "text": [
      "Episode Score: 43.0:  27%|██▋       | 3299/12000 [4:17:27<14:13:07,  5.88s/episode]"
     ]
    },
    {
     "name": "stdout",
     "output_type": "stream",
     "text": [
      "\n",
      "Training Steps: 5149592, Epsilon: 0.0157, Recent Avg Score: 34.23, Recent Max Score: 66.0\n",
      "\n"
     ]
    },
    {
     "name": "stderr",
     "output_type": "stream",
     "text": [
      "Episode Score: 24.0:  28%|██▊       | 3399/12000 [4:25:51<9:08:32,  3.83s/episode]"
     ]
    },
    {
     "name": "stdout",
     "output_type": "stream",
     "text": [
      "\n",
      "Training Steps: 5236921, Epsilon: 0.0153, Recent Avg Score: 31.51, Recent Max Score: 60.0\n",
      "\n"
     ]
    },
    {
     "name": "stderr",
     "output_type": "stream",
     "text": [
      "Episode Score: 30.0:  29%|██▉       | 3499/12000 [4:33:09<12:24:22,  5.25s/episode]"
     ]
    },
    {
     "name": "stdout",
     "output_type": "stream",
     "text": [
      "\n",
      "Training Steps: 5312800, Epsilon: 0.0149, Recent Avg Score: 27.0, Recent Max Score: 70.0\n",
      "\n"
     ]
    },
    {
     "name": "stderr",
     "output_type": "stream",
     "text": [
      "Episode Score: 27.0:  30%|██▉       | 3599/12000 [4:42:17<11:14:58,  4.82s/episode]"
     ]
    },
    {
     "name": "stdout",
     "output_type": "stream",
     "text": [
      "\n",
      "Training Steps: 5407683, Epsilon: 0.0144, Recent Avg Score: 34.29, Recent Max Score: 59.0\n",
      "\n"
     ]
    },
    {
     "name": "stderr",
     "output_type": "stream",
     "text": [
      "Episode Score: 57.0:  31%|███       | 3699/12000 [4:51:22<14:18:34,  6.21s/episode]"
     ]
    },
    {
     "name": "stdout",
     "output_type": "stream",
     "text": [
      "\n",
      "Training Steps: 5501688, Epsilon: 0.014, Recent Avg Score: 31.16, Recent Max Score: 58.0\n",
      "\n"
     ]
    },
    {
     "name": "stderr",
     "output_type": "stream",
     "text": [
      "Episode Score: 20.0:  32%|███▏      | 3799/12000 [5:00:02<11:02:31,  4.85s/episode]"
     ]
    },
    {
     "name": "stdout",
     "output_type": "stream",
     "text": [
      "\n",
      "Training Steps: 5591204, Epsilon: 0.0137, Recent Avg Score: 31.35, Recent Max Score: 57.0\n",
      "\n"
     ]
    },
    {
     "name": "stderr",
     "output_type": "stream",
     "text": [
      "Episode Score: 29.0:  32%|███▏      | 3899/12000 [5:08:04<12:11:25,  5.42s/episode]"
     ]
    },
    {
     "name": "stdout",
     "output_type": "stream",
     "text": [
      "\n",
      "Training Steps: 5674165, Epsilon: 0.0134, Recent Avg Score: 28.59, Recent Max Score: 64.0\n",
      "\n"
     ]
    },
    {
     "name": "stderr",
     "output_type": "stream",
     "text": [
      "Episode Score: 34.0:  33%|███▎      | 3999/12000 [5:16:11<11:47:41,  5.31s/episode]"
     ]
    },
    {
     "name": "stdout",
     "output_type": "stream",
     "text": [
      "\n",
      "Training Steps: 5758342, Epsilon: 0.0131, Recent Avg Score: 28.52, Recent Max Score: 54.0\n",
      "\n"
     ]
    },
    {
     "name": "stderr",
     "output_type": "stream",
     "text": [
      "Episode Score: 28.0:  33%|███▎      | 4000/12000 [5:16:33<22:21:49, 10.06s/episode]"
     ]
    },
    {
     "name": "stdout",
     "output_type": "stream",
     "text": [
      "\n",
      "Checkpoint created for episode 12000\n"
     ]
    },
    {
     "name": "stderr",
     "output_type": "stream",
     "text": [
      "Episode Score: 28.0:  34%|███▍      | 4099/12000 [5:24:25<11:44:00,  5.35s/episode]"
     ]
    },
    {
     "name": "stdout",
     "output_type": "stream",
     "text": [
      "\n",
      "Training Steps: 5840285, Epsilon: 0.0129, Recent Avg Score: 28.11, Recent Max Score: 121.0\n",
      "\n"
     ]
    },
    {
     "name": "stderr",
     "output_type": "stream",
     "text": [
      "Episode Score: 26.0:  35%|███▍      | 4199/12000 [5:33:46<12:55:06,  5.96s/episode]"
     ]
    },
    {
     "name": "stdout",
     "output_type": "stream",
     "text": [
      "\n",
      "Training Steps: 5937168, Epsilon: 0.0126, Recent Avg Score: 33.63, Recent Max Score: 59.0\n",
      "\n"
     ]
    },
    {
     "name": "stderr",
     "output_type": "stream",
     "text": [
      "Episode Score: 43.0:  36%|███▌      | 4265/12000 [5:39:44<12:13:12,  5.69s/episode]"
     ]
    },
    {
     "name": "stdout",
     "output_type": "stream",
     "text": [
      "\n",
      "Checkpoint created for episode 12266\n",
      "\n",
      "Finished\n"
     ]
    }
   ],
   "source": [
    "if TRAIN:\n",
    "    agent = DoubleDQNAgent(env, replay_memory_size, min_replay_memory_size, exp_dir)\n",
    "\n",
    "    stats = agent.train(gamma = gamma,\n",
    "                        target_update_every = target_update_every,\n",
    "                        num_episodes = num_episodes,\n",
    "                        max_steps = max_steps,\n",
    "                        epsilon_start = epsilon_start,\n",
    "                        num_steps_epsilon_decay = num_steps_epsilon_decay,\n",
    "                        epsilon_end = epsilon_end,\n",
    "                        batch_size = batch_size,\n",
    "                        repeat_action = repeat_action,\n",
    "                        model_save_freq = model_save_freq,\n",
    "                        load_from_checkpoint = True,\n",
    "                        last_episode = 8000)"
   ]
  },
  {
   "cell_type": "markdown",
   "metadata": {
    "colab_type": "text",
    "id": "J9Ci_h2VKYfr"
   },
   "source": [
    "## Let's check the training results"
   ]
  },
  {
   "cell_type": "markdown",
   "metadata": {
    "colab_type": "text",
    "id": "c3-h2RloyRhF"
   },
   "source": [
    "### Training Losses and Rewards"
   ]
  },
  {
   "cell_type": "code",
   "execution_count": 0,
   "metadata": {
    "colab": {},
    "colab_type": "code",
    "id": "0bifmf-xfQ2X"
   },
   "outputs": [],
   "source": [
    "all_losses = []\n",
    "all_rewards = []\n",
    "all_epsilons = []\n",
    "load_stats_from_file = True # Set this to true if want to load training statistics from files\n",
    "\n",
    "if load_stats_from_file:\n",
    "    last_episodes = [8000, 12000] # Update this list with every new run end episode\n",
    "    for episode in last_episodes:\n",
    "        stats_file = os.path.join(exp_dir, \"stats_{}.pt\".format(episode))\n",
    "        stats = torch.load(stats_file)\n",
    "        all_losses += stats[\"training_losses\"]\n",
    "        all_rewards += stats[\"episode_rewards\"]\n",
    "else:\n",
    "    all_losses += stats[\"training_losses\"]\n",
    "    all_rewards += stats[\"episode_rewards\"]"
   ]
  },
  {
   "cell_type": "code",
   "execution_count": 26,
   "metadata": {
    "colab": {
     "base_uri": "https://localhost:8080/",
     "height": 354
    },
    "colab_type": "code",
    "id": "VGJ-w10Dy5wc",
    "outputId": "124c4647-8c43-4bd0-c8c4-e9789a4904c5"
   },
   "outputs": [
    {
     "data": {
      "image/png": "[encoded data removed]",
      "text/plain": [
       "<Figure size 1080x360 with 2 Axes>"
      ]
     },
     "metadata": {
      "needs_background": "light",
      "tags": []
     },
     "output_type": "display_data"
    }
   ],
   "source": [
    "def plot_stats(losses, rewards):\n",
    "    losses = pd.Series(all_losses).rolling(100).mean()\n",
    "    rewards = pd.Series(all_rewards).rolling(100).mean()\n",
    "    fig = plt.figure(figsize=(15,5))\n",
    "    ax1 = fig.add_subplot(121)\n",
    "    ax2 = fig.add_subplot(122)\n",
    "\n",
    "    ax1.plot(rewards)\n",
    "    ax1.set_title(\"Episode returns over time (smoothing window = 200 episodes)\")\n",
    "    ax1.set_xlabel(\"Episode\")\n",
    "    ax1.set_ylabel(\"Total Episode Score\")\n",
    "\n",
    "    ax2.plot(losses)\n",
    "    ax2.set_title(\"Training loss over time (smoothing window = 200 episodes)\")\n",
    "    ax2.set_xlabel(\"Episode\")\n",
    "    ax2.set_ylabel(\"Training Loss\")\n",
    "    plt.show()\n",
    "\n",
    "plot_stats(all_losses, all_rewards)"
   ]
  },
  {
   "cell_type": "markdown",
   "metadata": {
    "colab_type": "text",
    "id": "mfC05wVUKBPi"
   },
   "source": [
    "### Let's see the agent's behaviour"
   ]
  },
  {
   "cell_type": "code",
   "execution_count": 0,
   "metadata": {
    "colab": {},
    "colab_type": "code",
    "id": "UQ3V_4Fa0mIX"
   },
   "outputs": [],
   "source": [
    "!apt-get install -y xvfb python-opengl x11-utils ffmpeg > /dev/null 2>&1\n",
    "!pip install pyvirtualdisplay > /dev/null 2>&1"
   ]
  },
  {
   "cell_type": "code",
   "execution_count": 0,
   "metadata": {
    "colab": {},
    "colab_type": "code",
    "id": "WJNJaX_r0nyc"
   },
   "outputs": [],
   "source": [
    "from gym.wrappers import Monitor\n",
    "from pyvirtualdisplay import Display\n",
    "display = Display(visible=0, size=(1400, 900))\n",
    "display_params = display.start()"
   ]
  },
  {
   "cell_type": "code",
   "execution_count": 0,
   "metadata": {
    "colab": {},
    "colab_type": "code",
    "id": "t1XrYtDa04Zr"
   },
   "outputs": [],
   "source": [
    "# This function to render gym environment in colab is taken from\n",
    "# https://colab.research.google.com/drive/1flu31ulJlgiRL1dnN2ir8wGh9p7Zij2t\n",
    "\n",
    "import math\n",
    "import glob\n",
    "import io\n",
    "import base64\n",
    "from IPython.display import HTML\n",
    "from IPython import display as ipythondisplay\n",
    "\n",
    "\"\"\"\n",
    "Utility functions to enable video recording of gym environment and displaying it\n",
    "To enable video, just do \"env = wrap_env(env)\"\"\n",
    "\"\"\"\n",
    "\n",
    "def show_video():\n",
    "  mp4list = glob.glob('video/*.mp4')\n",
    "  if len(mp4list) > 0:\n",
    "    mp4 = mp4list[0]\n",
    "    video = io.open(mp4, 'r+b').read()\n",
    "    encoded = base64.b64encode(video)\n",
    "    ipythondisplay.display(HTML(data='''<video alt=\"test\" autoplay \n",
    "                loop controls style=\"height: 400px;\">\n",
    "                <source src=\"data:video/mp4;base64,{0}\" type=\"video/mp4\" />\n",
    "             </video>'''.format(encoded.decode('ascii'))))\n",
    "  else: \n",
    "    print(\"Could not find video\")\n",
    "\n",
    "def wrap_env(env):\n",
    "    env = Monitor(env, './video', force=True)\n",
    "    return env"
   ]
  },
  {
   "cell_type": "code",
   "execution_count": 0,
   "metadata": {
    "colab": {},
    "colab_type": "code",
    "id": "o84N9CUJ05u2"
   },
   "outputs": [],
   "source": [
    "def show_episode(gym_env, policy, epsilon):\n",
    "    env = wrap_env(gym_env)\n",
    "    state = env.reset()\n",
    "    state = preprocess(state)\n",
    "    state = np.vstack([state] * 4)\n",
    "    final_score = 0\n",
    "    t = 0\n",
    "    while True:\n",
    "        env.render()\n",
    "        action_probs = policy(torch.from_numpy(state / 255.0).float().to(device).unsqueeze(0), epsilon)\n",
    "        action = np.random.choice(np.arange(len(action_probs)), p=action_probs)\n",
    "        action_reward = 0\n",
    "        next_state, reward, done, info = env.step(action)\n",
    "        next_state = preprocess(next_state)\n",
    "        next_state = np.append(state[1:,:,:], next_state, axis=0)\n",
    "        final_score += reward\n",
    "        state = next_state\n",
    "        t += 1\n",
    "        if done:\n",
    "            print(\"Episode finished after {} timesteps\".format(t+1))\n",
    "            print(\"Final Score: {}\".format(int(final_score)))\n",
    "            break\n",
    "    env.close()\n",
    "    show_video()"
   ]
  },
  {
   "cell_type": "markdown",
   "metadata": {
    "colab_type": "text",
    "id": "gDFmV1Qj4sYw"
   },
   "source": [
    "#### Run the Agent"
   ]
  },
  {
   "cell_type": "code",
   "execution_count": 40,
   "metadata": {
    "colab": {
     "base_uri": "https://localhost:8080/",
     "height": 455
    },
    "colab_type": "code",
    "id": "6uaU9XX21C3M",
    "outputId": "d89a16d0-5645-430c-dcc5-0bde4ac82e35"
   },
   "outputs": [
    {
     "name": "stdout",
     "output_type": "stream",
     "text": [
      "Episode finished after 1015 timesteps\n",
      "Final Score: 35\n"
     ]
    },
    {
     "data": {
      "text/html": [
       "<video alt=\"test\" autoplay \n",
       "                loop controls style=\"height: 400px;\">\n",
       "                <source src=\"data:video/mp4;base64,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\" type=\"video/mp4\" />\n",
       "             </video>"
      ],
      "text/plain": [
       "<IPython.core.display.HTML object>"
      ]
     },
     "metadata": {
      "tags": []
     },
     "output_type": "display_data"
    }
   ],
   "source": [
    "checkpoint_episode = 12000\n",
    "checkpoint_name = os.path.join(os.path.join(exp_dir, \"models\"), \"model_{}.pt\".format(checkpoint_episode))\n",
    "\n",
    "online_network = EstimatorNetwork(env).to(device)\n",
    "online_network.load_state_dict(torch.load(checkpoint_name, map_location=torch.device(device)))\n",
    "online_network.eval()\n",
    "policy = get_epsilon_greedy_policy(online_network)\n",
    "show_episode(env, policy, epsilon=0.01)"
   ]
  }
 ],
 "metadata": {
  "accelerator": "GPU",
  "colab": {
   "collapsed_sections": [],
   "machine_shape": "hm",
   "name": "DoubleDQN_Breakout.ipynb",
   "provenance": []
  },
  "kernelspec": {
   "display_name": "Python 3",
   "language": "python",
   "name": "python3"
  },
  "language_info": {
   "codemirror_mode": {
    "name": "ipython",
    "version": 3
   },
   "file_extension": ".py",
   "mimetype": "text/x-python",
   "name": "python",
   "nbconvert_exporter": "python",
   "pygments_lexer": "ipython3",
   "version": "3.6.8"
  }
 },
 "nbformat": 4,
 "nbformat_minor": 1
}
