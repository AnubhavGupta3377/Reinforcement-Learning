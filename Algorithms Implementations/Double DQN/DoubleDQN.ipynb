{
 "cells": [
  {
   "cell_type": "markdown",
   "metadata": {
    "id": "du-B3NfH5i5C"
   },
   "source": [
    "# Double Q-Learning"
   ]
  },
  {
   "cell_type": "markdown",
   "metadata": {
    "id": "fzpYRM2m5vUk"
   },
   "source": [
    "#### Import Libraries"
   ]
  },
  {
   "cell_type": "code",
   "execution_count": 1,
   "metadata": {
    "ExecuteTime": {
     "end_time": "2020-12-24T05:54:13.261744Z",
     "start_time": "2020-12-24T05:54:11.835930Z"
    },
    "id": "PdJIjZju5r6b"
   },
   "outputs": [],
   "source": [
    "import numpy as np\n",
    "import pandas as pd\n",
    "import os\n",
    "import random\n",
    "import math\n",
    "from random import randrange\n",
    "import sys\n",
    "import psutil\n",
    "import tqdm\n",
    "from collections import deque, namedtuple\n",
    "from PIL import Image\n",
    "from IPython import display as IPdisplay\n",
    "from skimage.transform import resize\n",
    "import imageio\n",
    "\n",
    "import cv2\n",
    "\n",
    "import torch\n",
    "import torch.nn as nn\n",
    "import torch.optim as optim\n",
    "import torch.nn.functional as F\n",
    "\n",
    "import gym\n",
    "from gym import logger as gymlogger\n",
    "\n",
    "import matplotlib\n",
    "import matplotlib.pyplot as plt\n",
    "\n",
    "matplotlib.style.use('ggplot')\n",
    "gymlogger.set_level(40) #error only\n",
    "%matplotlib inline"
   ]
  },
  {
   "cell_type": "markdown",
   "metadata": {
    "id": "VqfeKFMK6MWR"
   },
   "source": [
    "#### Environment, Constants and Model Parameters"
   ]
  },
  {
   "cell_type": "code",
   "execution_count": 2,
   "metadata": {
    "ExecuteTime": {
     "end_time": "2020-12-24T05:50:12.585634Z",
     "start_time": "2020-12-24T05:50:12.159103Z"
    },
    "id": "HrP59epOoY2u",
    "outputId": "23408637-16e1-4f4d-b97f-a43d29fd23c0"
   },
   "outputs": [
    {
     "name": "stdout",
     "output_type": "stream",
     "text": [
      "Box(0, 255, (210, 160, 3), uint8)\n",
      "Discrete(4)\n",
      "['NOOP', 'FIRE', 'RIGHT', 'LEFT']\n"
     ]
    }
   ],
   "source": [
    "env = gym.make(\"BreakoutDeterministic-v4\").env\n",
    "#env = gym.make(\"Pong-v4\").env\n",
    "\n",
    "print(env.observation_space)\n",
    "print(env.action_space)\n",
    "print(env.get_action_meanings())"
   ]
  },
  {
   "cell_type": "code",
   "execution_count": 3,
   "metadata": {
    "ExecuteTime": {
     "end_time": "2020-12-24T05:50:12.605067Z",
     "start_time": "2020-12-24T05:50:12.588424Z"
    },
    "id": "tz1rK3nfIt7J"
   },
   "outputs": [],
   "source": [
    "# Constants\n",
    "TRAIN = False\n",
    "TEST_MODULES = False # Whether to run test cases for individual modules\n",
    "INPUT_SHAPE = env.observation_space.shape # (210,160,3) For Atari Games\n",
    "PREPROCESSED_STATE_SHAPE = (84,84)\n",
    "NUM_ACTIONS = env.action_space.n\n",
    "EXP_DIR = \"Breakout\"\n",
    "DEVICE = torch.device(\"cuda\" if torch.cuda.is_available() else \"cpu\")\n",
    "\n",
    "# Parameters\n",
    "class Config:\n",
    "    def __init__(self):\n",
    "        \"\"\"\n",
    "        gamma: Discount Factor\n",
    "        target_update_every: Copy weights from online network to target\n",
    "                             network after this many (time) steps\n",
    "        num_episodes: Maximum number of episodes to train\n",
    "        max_steps: Maximum number of times to train\n",
    "        epsilon_start: Initial epsilon for epsilon-greedy policy\n",
    "        epsilon_end: Mininum value epsilon can go to\n",
    "        num_steps_epsilon_decay: Use epsilon decay for this many steps\n",
    "        batch_size: Batch size to sample from replay memory\n",
    "        repeat_action: Number of frames to repeat the last action\n",
    "        model_save_freq: Save the model and replay memory to disk after this many episodes\n",
    "        \"\"\"\n",
    "        self.gamma = 0.99\n",
    "        self.replay_memory_size = 600_000\n",
    "        self.min_replay_memory_size = 50_000\n",
    "        self.target_update_every = 10_000\n",
    "        self.num_episodes = 20_000\n",
    "        self.max_steps = 20_000_000\n",
    "        self.epsilon_start = 1.0\n",
    "        self.epsilon_end_1 = 0.1\n",
    "        self.epsilon_end_2 = 0.03\n",
    "        self.num_steps_epsilon_decay_1 = 6_000_000\n",
    "        self.num_steps_epsilon_decay_2 = 25_000_000\n",
    "        self.batch_size = 32\n",
    "        self.repeat_action = 4\n",
    "        self.model_save_freq = 2000 # Episodes\n",
    "        self.max_episode_length = 20000\n",
    "\n",
    "if not os.path.exists(EXP_DIR):\n",
    "    os.makedirs(EXP_DIR)\n",
    "if not os.path.exists(os.path.join(EXP_DIR, 'models')):\n",
    "    os.makedirs(os.path.join(EXP_DIR, 'models'))"
   ]
  },
  {
   "cell_type": "markdown",
   "metadata": {
    "id": "hgTCw-Vsypf_"
   },
   "source": [
    "#### Preprocess Atari Image"
   ]
  },
  {
   "cell_type": "code",
   "execution_count": 4,
   "metadata": {
    "ExecuteTime": {
     "end_time": "2020-12-24T05:50:12.738573Z",
     "start_time": "2020-12-24T05:50:12.611017Z"
    },
    "id": "Pg08EUznys29"
   },
   "outputs": [],
   "source": [
    "def preprocess(frame):\n",
    "    state = frame[30:195, :, :] # For Breakout\n",
    "    #state = frame[30:190, 10:150, :] # For Pong\n",
    "    state = cv2.cvtColor(state, cv2.COLOR_RGB2GRAY)\n",
    "    state = cv2.resize(state, PREPROCESSED_STATE_SHAPE, interpolation = cv2.INTER_AREA)\n",
    "    return np.expand_dims(state, 0)"
   ]
  },
  {
   "cell_type": "code",
   "execution_count": 5,
   "metadata": {
    "ExecuteTime": {
     "end_time": "2020-12-24T05:50:12.850130Z",
     "start_time": "2020-12-24T05:50:12.741184Z"
    },
    "id": "XZWWw6kIE1cR",
    "outputId": "e0086385-0a4a-4b52-de2d-e1e587c7c456"
   },
   "outputs": [],
   "source": [
    "def test_preprocessing():\n",
    "    frame = env.reset()\n",
    "    preprocessed_image = preprocess(frame)\n",
    "    assert preprocessed_image.shape==(1,84,84), \"Preprocessed image not of desired size\"\n",
    "    print(\"Test: OK\")\n",
    "\n",
    "if TEST_MODULES:\n",
    "    test_preprocessing()\n",
    "    \n",
    "    # Visualize one preprocessed frame\n",
    "    frame = env.reset()\n",
    "    plt.imshow(preprocess(frame).reshape((84,84)), cmap='gray')\n",
    "    plt.show()"
   ]
  },
  {
   "cell_type": "markdown",
   "metadata": {
    "id": "zmqliBbIOtu1"
   },
   "source": [
    "#### Estimator Network\n",
    "- This network is used by both online network and target network\n",
    "- Both networks have different weights"
   ]
  },
  {
   "cell_type": "code",
   "execution_count": 6,
   "metadata": {
    "ExecuteTime": {
     "end_time": "2020-12-24T05:50:12.933286Z",
     "start_time": "2020-12-24T05:50:12.853431Z"
    },
    "id": "mYHMFwJ4iptS"
   },
   "outputs": [],
   "source": [
    "class EstimatorNetwork(nn.Module):\n",
    "    \"\"\"\n",
    "    Neural network used by online network and target network \n",
    "    \"\"\"\n",
    "    def __init__(self, env):\n",
    "        super(EstimatorNetwork, self).__init__()\n",
    "        self.env = env\n",
    "        num_actions = env.action_space.n\n",
    "\n",
    "        self.conv1 = nn.Conv2d(4, 32, kernel_size=8, stride=4)\n",
    "        nn.init.kaiming_normal_(self.conv1.weight, nonlinearity='relu')\n",
    "        nn.init.constant_(self.conv1.bias, 0)\n",
    "\n",
    "        self.conv2 = nn.Conv2d(32, 64, kernel_size=4, stride=2)\n",
    "        nn.init.kaiming_normal_(self.conv2.weight, nonlinearity='relu')\n",
    "        nn.init.constant_(self.conv2.bias, 0)\n",
    "        \n",
    "        self.conv3 = nn.Conv2d(64, 64, kernel_size=3, stride=1)\n",
    "        nn.init.kaiming_normal_(self.conv3.weight, nonlinearity='relu')\n",
    "        nn.init.constant_(self.conv3.bias, 0)\n",
    "        \n",
    "        self.linear1 = nn.Linear(3136, 512)\n",
    "        nn.init.kaiming_normal_(self.linear1.weight, nonlinearity='relu')\n",
    "\n",
    "        self.linear2 = nn.Linear(512, num_actions)\n",
    "        nn.init.kaiming_normal_(self.linear2.weight)\n",
    "        \n",
    "    def forward(self, x):\n",
    "        x = F.relu(self.conv1(x))\n",
    "        x = F.relu(self.conv2(x))\n",
    "        x = F.relu(self.conv3(x))\n",
    "        x = x.view(x.size(0), -1)\n",
    "        linear1_out = self.linear1(x)\n",
    "        return self.linear2(linear1_out)"
   ]
  },
  {
   "cell_type": "code",
   "execution_count": 7,
   "metadata": {
    "ExecuteTime": {
     "end_time": "2020-12-24T05:50:13.022432Z",
     "start_time": "2020-12-24T05:50:12.937412Z"
    },
    "id": "9IGyWtBWN3HO",
    "outputId": "f30606d5-aad0-4d3a-ae3a-97f8af13b2cd"
   },
   "outputs": [],
   "source": [
    "# Test that the network actually learns\n",
    "def test_estimator_network():\n",
    "    estimator = EstimatorNetwork(env).to(DEVICE)\n",
    "    frame = env.reset()\n",
    "    observation = preprocess(frame)\n",
    "    observation = np.vstack([observation] * 4)\n",
    "    observations = np.array([observation] * 2)\n",
    "    observations = torch.from_numpy(observations / 255.0).to(DEVICE).float()\n",
    "\n",
    "    y = torch.tensor([[10.0,10.0,10.0,10.0],[10.0,10.0,10.0,10.0]], device=DEVICE)\n",
    "    optimizer = torch.optim.Adam(estimator.parameters(), lr=0.01)\n",
    "    for i in range(300):\n",
    "        predictions = estimator(observations)\n",
    "        loss = F.smooth_l1_loss(predictions, y)\n",
    "        optimizer.zero_grad()\n",
    "        loss.backward()\n",
    "        optimizer.step()\n",
    "\n",
    "    new_preds = estimator(observations)\n",
    "    assert max(new_preds[0]) < 11 and min(new_preds[0]) > 9, \"Test failed for update\"\n",
    "    assert max(new_preds[1]) < 11 and min(new_preds[1]) > 9, \"Test failed for update\"\n",
    "    print(\"Test2: OK\")\n",
    "\n",
    "if TEST_MODULES: test_estimator_network()"
   ]
  },
  {
   "cell_type": "markdown",
   "metadata": {
    "id": "09qbJ-Nk2XQL"
   },
   "source": [
    "#### Replay Memory"
   ]
  },
  {
   "cell_type": "code",
   "execution_count": 8,
   "metadata": {
    "ExecuteTime": {
     "end_time": "2020-12-24T05:50:13.132821Z",
     "start_time": "2020-12-24T05:50:13.026576Z"
    },
    "id": "A8KqmPAR2a1x"
   },
   "outputs": [],
   "source": [
    "class ReplayMemory:\n",
    "    def __init__(self, capacity, min_size, frame_width, frame_height):\n",
    "        self.capacity = capacity\n",
    "        self.min_size = min_size\n",
    "        self.frame_width = frame_width\n",
    "        self.frame_height = frame_height\n",
    "        self.tail = 0\n",
    "        self.size = 0\n",
    "        self.frames = np.empty((capacity, frame_width, frame_height), dtype=np.uint8)\n",
    "        self.actions = np.empty(capacity, dtype=np.int32)\n",
    "        self.rewards = np.empty(capacity, dtype=np.float32)\n",
    "        self.terminal_flags = np.empty(capacity, dtype=np.bool)\n",
    "\n",
    "    def add_experience(self, frame, action, reward, done):\n",
    "        self.frames[self.tail,...] = frame.reshape((self.frame_width, self.frame_height))\n",
    "        self.actions[self.tail] = action\n",
    "        self.rewards[self.tail] = reward\n",
    "        self.terminal_flags[self.tail] = done\n",
    "        self.tail = (self.tail+1) % self.capacity\n",
    "        self.size = min(self.size+1, self.capacity)\n",
    "\n",
    "    def get_state(self, index, prev_frames):\n",
    "        \"\"\"\n",
    "        Get states stacking frames ending at index\n",
    "\n",
    "        Args:\n",
    "            index: index for which to obtain the state\n",
    "        \"\"\"\n",
    "        return self.frames[index-prev_frames+1:index+1,...]\n",
    "\n",
    "    def get_valid_index(self, prev_frames):\n",
    "        \"\"\"\n",
    "        Returns a valid index from the replay memory. A valid index is one which doesn't terminate here.\n",
    "        \"\"\"\n",
    "        while True:\n",
    "            index = randrange(prev_frames, self.size)\n",
    "            if index >= self.tail and index-prev_frames < self.tail:\n",
    "                continue\n",
    "            if self.terminal_flags[index-prev_frames:index].any():\n",
    "                continue\n",
    "            break\n",
    "        return index\n",
    "\n",
    "    def get_sample(self, batch_size, prev_frames=4):\n",
    "        states = np.empty((batch_size, prev_frames, self.frame_width, self.frame_height), dtype=np.uint8)\n",
    "        next_states = np.empty((batch_size, prev_frames, self.frame_width, self.frame_height), dtype=np.uint8)\n",
    "        indices = np.empty((batch_size,), dtype=np.int32)\n",
    "        for i in range(batch_size):\n",
    "            index = self.get_valid_index(prev_frames)\n",
    "            indices[i] = index\n",
    "            states[i,...] = self.get_state(index-1, prev_frames)\n",
    "            next_states[i,...] = self.get_state(index, prev_frames)\n",
    "        return states, self.actions[indices], self.rewards[indices], next_states, self.terminal_flags[indices]\n",
    "\n",
    "    def filled_minimum(self):\n",
    "        return self.size >= self.min_size\n",
    "\n",
    "    def save_to_disk(self, filename, save_size=200000):\n",
    "        save_size = min(save_size, self.size)\n",
    "        if self.tail > save_size:\n",
    "            replay_checkpoint = {'tail': save_size,\n",
    "                                 'size': save_size,\n",
    "                                 'frames': self.frames[self.tail-save_size+1:self.tail,...],\n",
    "                                 'actions': self.actions[self.tail-save_size+1:self.tail],\n",
    "                                 'rewards': self.rewards[self.tail-save_size+1:self.tail],\n",
    "                                 'terminal_flags': self.terminal_flags[self.tail-save_size+1:self.tail]}\n",
    "        else:\n",
    "            save_indices = list(range(self.size+self.tail-save_size-1, self.size))\n",
    "            save_indices += list(range(self.tail))\n",
    "            replay_checkpoint = {'tail': save_size,\n",
    "                                 'size': save_size,\n",
    "                                 'frames': self.frames[save_indices,...],\n",
    "                                 'actions': self.actions[save_indices],\n",
    "                                 'rewards': self.rewards[save_indices],\n",
    "                                 'terminal_flags': self.terminal_flags[save_indices]}\n",
    "        torch.save(replay_checkpoint, filename)\n",
    "\n",
    "    def load_from_disk(self, filename):\n",
    "        replay_checkpoint = torch.load(filename)\n",
    "        self.tail = replay_checkpoint['tail']\n",
    "        self.size = replay_checkpoint['size']\n",
    "        save_len = len(replay_checkpoint['frames'])\n",
    "        self.frames[:save_len,...] = replay_checkpoint['frames']\n",
    "        self.actions[:save_len] = replay_checkpoint['actions']\n",
    "        self.rewards[:save_len] = replay_checkpoint['rewards']\n",
    "        self.terminal_flags[:save_len] = replay_checkpoint['terminal_flags']"
   ]
  },
  {
   "cell_type": "markdown",
   "metadata": {
    "id": "BVtedR8SO45Z"
   },
   "source": [
    "#### DQN Agent"
   ]
  },
  {
   "cell_type": "code",
   "execution_count": 9,
   "metadata": {
    "ExecuteTime": {
     "end_time": "2020-12-24T05:50:13.251049Z",
     "start_time": "2020-12-24T05:50:13.135623Z"
    },
    "id": "_xTRVMUT_QFT"
   },
   "outputs": [],
   "source": [
    "def get_epsilon_greedy_policy(estimator):\n",
    "    \"\"\"\n",
    "    Make an epsilon-greedy policy from given Q-values\n",
    "    Returns:\n",
    "        policy: epsilon-greedy policy which takes random action with\n",
    "                probability epsilon/num_actions, otherwise takes\n",
    "                greedy action\n",
    "    \"\"\"\n",
    "    def policy(state, epsilon):\n",
    "        with torch.no_grad():\n",
    "            q_values = estimator(state)\n",
    "        num_actions = q_values.size(1)\n",
    "        greedy_action = torch.argmax(q_values).item()\n",
    "        action_probs = np.ones((num_actions)) * (epsilon/num_actions)\n",
    "        action_probs[greedy_action] += 1-epsilon\n",
    "        return action_probs\n",
    "    \n",
    "    return policy"
   ]
  },
  {
   "cell_type": "code",
   "execution_count": 10,
   "metadata": {
    "ExecuteTime": {
     "end_time": "2020-12-24T05:50:13.350894Z",
     "start_time": "2020-12-24T05:50:13.253055Z"
    },
    "id": "853mlm5DoefU"
   },
   "outputs": [],
   "source": [
    "class DoubleDQNAgent:\n",
    "    def __init__(self, env, replay_memory_size, min_replay_memory_size):\n",
    "        \"\"\"\n",
    "        Initialize the deep Q-learning agent. Main components of DQN include\n",
    "        - two estimator networks\n",
    "            1. Online network\n",
    "            2. Target network\n",
    "        - replay memory\n",
    "\n",
    "        Args:\n",
    "            replay_memory_size: Size of replay memory\n",
    "            min_replay_memory_size: Minimum size of replay memory\n",
    "        \"\"\"\n",
    "\n",
    "        # DQN components\n",
    "        self.env = env\n",
    "        self.online_network = EstimatorNetwork(env).to(DEVICE)\n",
    "        self.target_network = EstimatorNetwork(env).to(DEVICE)\n",
    "        self.replay_memory = ReplayMemory(capacity=replay_memory_size,\n",
    "                                          min_size=min_replay_memory_size,\n",
    "                                          frame_width=PREPROCESSED_STATE_SHAPE[0],\n",
    "                                          frame_height=PREPROCESSED_STATE_SHAPE[1])\n",
    "        self.copy_network_weights()\n",
    "        self.target_network.eval()\n",
    "\n",
    "        # Optimizer to be used for training\n",
    "        self.optimizer = torch.optim.Adam(self.online_network.parameters(), lr=0.00001)\n",
    "        self.loss = torch.nn.SmoothL1Loss()\n",
    "\n",
    "    def copy_network_weights(self):\n",
    "        self.target_network.load_state_dict(self.online_network.state_dict())\n",
    "\n",
    "    def create_checkpoint(self, episode, stats):\n",
    "        model_dir = os.path.join(EXP_DIR, \"models\")\n",
    "        model_filename = os.path.join(model_dir, \"model_{}.pt\".format(episode))\n",
    "        optimizer_filename = os.path.join(model_dir, \"optimizer_{}.pt\".format(episode))\n",
    "        stats_filename = os.path.join(EXP_DIR, \"stats_{}.pt\".format(episode))\n",
    "        replay_filename = os.path.join(EXP_DIR, \"replay_{}.pt\".format(episode))\n",
    "        try:\n",
    "            torch.save(self.online_network.state_dict(), model_filename)\n",
    "            torch.save(self.optimizer.state_dict(), optimizer_filename)\n",
    "            torch.save(stats, stats_filename)\n",
    "            self.replay_memory.save_to_disk(replay_filename)\n",
    "            print(\"\\nCheckpoint created for episode {}\".format(episode))\n",
    "        except:\n",
    "            print (\"\\nCouldn't create checkpoint.\")\n",
    "\n",
    "    def load_checkpoint(self, episode):\n",
    "        model_dir = os.path.join(EXP_DIR, \"models\")\n",
    "        model_filename = os.path.join(model_dir, \"model_{}.pt\".format(episode))\n",
    "        optimizer_filename = os.path.join(model_dir, \"optimizer_{}.pt\".format(episode))\n",
    "        stats_filename = os.path.join(EXP_DIR, \"stats_{}.pt\".format(episode))\n",
    "        replay_filename = os.path.join(EXP_DIR, \"replay_{}.pt\".format(episode))\n",
    "        try:\n",
    "            self.online_network.load_state_dict(torch.load(model_filename, map_location=DEVICE))\n",
    "            self.optimizer.load_state_dict(torch.load(optimizer_filename, map_location=DEVICE))\n",
    "            stats = torch.load(stats_filename)\n",
    "            self.replay_memory.load_from_disk(replay_filename)\n",
    "            print(\"\\nCheckpoint loaded for episode {}\".format(episode))\n",
    "        except:\n",
    "            print (\"\\nCouldn't load checkpoint.\")\n",
    "            return 0\n",
    "        self.copy_network_weights()\n",
    "        return stats['total_steps']+1\n",
    "\n",
    "    def train(self, config, load_from_checkpoint=False, last_episode=0):\n",
    "        \"\"\"\n",
    "        Trains the DQN Agent\n",
    "\n",
    "        Args:\n",
    "            config: Training configurations\n",
    "            load_from_checkpoint: Whether to load model from checkpoint\n",
    "            last_episode: Number of episodes the agent was already trained on.\n",
    "                          Used for checkpoint name and initialize model weights\n",
    "        \"\"\"\n",
    "\n",
    "        Transition = namedtuple(\"Transition\", [\"state\", \"action\", \"reward\", \"next_state\", \"done\"])\n",
    "        \n",
    "        policy = get_epsilon_greedy_policy(self.target_network)\n",
    "        total_steps = 0\n",
    "\n",
    "        if load_from_checkpoint:\n",
    "            total_steps = self.load_checkpoint(last_episode)\n",
    "\n",
    "        stats = {'starting_episode': last_episode+1,\n",
    "                 'epsilon': [],\n",
    "                 'episode_lengths': [],\n",
    "                 'episode_rewards': [],\n",
    "                 'total_steps': total_steps}\n",
    "\n",
    "        replay_memory_populated = False\n",
    "        if self.replay_memory.filled_minimum():\n",
    "            replay_memory_populated = True\n",
    "        else:\n",
    "            print(\"\\nFilling up replay memory...\")\n",
    "        \n",
    "        episode_reward = 0\n",
    "        episode_length = 0\n",
    "        recent_rewards = deque(maxlen=100)\n",
    "        epsilon = config.epsilon_start\n",
    "        for episode_num in range(last_episode+1, config.num_episodes+1):\n",
    "            recent_mean_score = np.round(np.mean(recent_rewards), 2) if len(recent_rewards) > 0 else -float('inf')\n",
    "            recent_max_score = np.max(recent_rewards) if len(recent_rewards) > 0 else -float('inf')\n",
    "            \n",
    "            print(f\"\\rEpisode: {episode_num:>5}/{config.num_episodes}  Steps: {total_steps:>10}  \"\n",
    "                  f\"Epsilon: {round(epsilon, 3):>6}  Score: {episode_reward:>6}  Recent avg: {recent_mean_score:>6}  \"\n",
    "                  f\"Recent max: {recent_max_score:>6}\", end=\"\")\n",
    "            sys.stdout.flush()\n",
    "            \n",
    "            if episode_num % 100 == 0:\n",
    "                print()\n",
    "            \n",
    "            episode_reward = 0\n",
    "            episode_length = 0\n",
    "\n",
    "            frame = self.env.reset()\n",
    "            observation = preprocess(frame)\n",
    "            state = np.vstack([observation] * 4)\n",
    "\n",
    "            while True: # Until eipsode finishes\n",
    "                if total_steps < config.num_steps_epsilon_decay_1:\n",
    "                    epsilon = config.epsilon_end_1 + (config.epsilon_start - config.epsilon_end_1) * math.exp(-1. * total_steps / 1_000_000)\n",
    "                else:\n",
    "                    epsilon_end_1 = config.epsilon_end_1 + (config.epsilon_start - config.epsilon_end_1) * math.exp(-1. * config.num_steps_epsilon_decay_1 / 1_000_000)\n",
    "                    epsilon = epsilon_end_1 - ((epsilon_end_1 - config.epsilon_end_2) * (total_steps - config.num_steps_epsilon_decay_1) / (config.num_steps_epsilon_decay_2 - config.num_steps_epsilon_decay_1))\n",
    "                if total_steps > config.num_steps_epsilon_decay_2:\n",
    "                    epsilon = config.epsilon_end_2\n",
    "                \n",
    "                # Choose and take action based on above policy\n",
    "                action_probs = policy(torch.from_numpy(state / 255.0).float().to(DEVICE).unsqueeze(0), epsilon)\n",
    "                action = np.random.choice(np.arange(len(action_probs)), p=action_probs)\n",
    "\n",
    "                # Take (repeat_action) steps into the environment (One hack to speed up training involved)\n",
    "                lives_before = self.env.ale.lives()\n",
    "                next_frame, reward, done, info = self.env.step(action)\n",
    "                observation = preprocess(next_frame)\n",
    "                lives_after = self.env.ale.lives()\n",
    "                # Losing life terminates the episode\n",
    "                replay_done = done if lives_before <= lives_after else True\n",
    "\n",
    "                # Update replay memory\n",
    "                self.replay_memory.add_experience(observation,action,reward,replay_done)\n",
    "                state = np.append(state[1:,:,:], observation, axis=0)\n",
    "\n",
    "                # Move onto next step if replay memory not filled with minimum experience\n",
    "                # No training happens in this case\n",
    "                if not self.replay_memory.filled_minimum():\n",
    "                    if done: break\n",
    "                    continue\n",
    "\n",
    "                # Training starts now\n",
    "                if not replay_memory_populated:\n",
    "                    print(\"\\nReplay memory filled with minimum experience.\")\n",
    "                    replay_memory_populated = True\n",
    "                    break\n",
    "\n",
    "                total_steps += 1\n",
    "                \n",
    "                # Update Stats\n",
    "                episode_reward += reward\n",
    "                episode_length += 1\n",
    "\n",
    "                # Copy weights from online network to target network after some time\n",
    "                if total_steps % config.target_update_every == 0:\n",
    "                    self.copy_network_weights()\n",
    "\n",
    "                if total_steps % config.repeat_action != 0:\n",
    "                    if done: break\n",
    "                    continue\n",
    "\n",
    "                # Sample a random batch of experiences from replay memory\n",
    "                states_batch, actions_batch, rewards_batch, next_states_batch, done_batch = self.replay_memory.get_sample(config.batch_size, prev_frames=4)\n",
    "                states_batch = torch.from_numpy(states_batch/255.0).float().to(DEVICE)\n",
    "                actions_batch = torch.from_numpy(actions_batch).to(DEVICE)\n",
    "                rewards_batch = torch.from_numpy(rewards_batch).to(DEVICE)\n",
    "                next_states_batch = torch.from_numpy(next_states_batch/255.0).float().to(DEVICE)\n",
    "                done_batch = torch.from_numpy(done_batch).to(DEVICE)\n",
    "\n",
    "                #################################### Double DQN ######################################\n",
    "                batch_size = states_batch.size(0)\n",
    "                \n",
    "                # Get q_values of greedy targets for this batch\n",
    "                with torch.no_grad():\n",
    "                    next_q_values = self.online_network(next_states_batch)\n",
    "                best_actions = torch.max(next_q_values, 1)[1]\n",
    "                best_action_indices = torch.arange(config.batch_size, device=DEVICE) * next_q_values.size(1) + best_actions\n",
    "                with torch.no_grad():\n",
    "                    next_q_values_target = self.target_network(next_states_batch)\n",
    "                targets_batch = rewards_batch + (~done_batch) * config.gamma *\\\n",
    "                                torch.gather(next_q_values_target.view(-1), 0, best_action_indices)\n",
    "\n",
    "                predictions = self.online_network(states_batch)\n",
    "\n",
    "                # Get the q_values of only current actions taken from states\n",
    "                action_indices = torch.arange(config.batch_size, device=DEVICE) * predictions.size(1) + actions_batch\n",
    "                action_predictions = torch.gather(predictions.view(-1), 0, action_indices)\n",
    "                #####################################################################################\n",
    "\n",
    "                # Compute loss and optimize model\n",
    "                loss = self.loss(targets_batch, action_predictions)\n",
    "                self.optimizer.zero_grad()\n",
    "                loss.backward()\n",
    "                for param in self.online_network.parameters():\n",
    "                    param.grad.data.clamp_(-1, 1)\n",
    "                self.optimizer.step()\n",
    "\n",
    "                if done or episode_length > config.max_episode_length: break\n",
    "\n",
    "            if replay_memory_populated and episode_length > 0:\n",
    "                # Update stats\n",
    "                stats['epsilon'].append(epsilon)\n",
    "                stats['episode_rewards'].append(episode_reward)\n",
    "                stats['episode_lengths'].append(episode_length)\n",
    "                stats['total_steps'] = total_steps\n",
    "                recent_rewards.append(episode_reward)\n",
    "\n",
    "            if episode_num % config.model_save_freq == 0 or total_steps >= config.max_steps or episode_num == config.num_episodes:\n",
    "                self.create_checkpoint(4, stats)\n",
    "            if total_steps >= config.max_steps:\n",
    "                break\n",
    "\n",
    "        print(\"\\nFinished\\n\")\n",
    "        return stats"
   ]
  },
  {
   "cell_type": "markdown",
   "metadata": {
    "id": "96FMwZTgubf6"
   },
   "source": [
    "#### Start training the agent\n",
    "Now, it's time to actually run the agent and see how it performs."
   ]
  },
  {
   "cell_type": "code",
   "execution_count": 11,
   "metadata": {
    "ExecuteTime": {
     "end_time": "2020-12-24T05:50:13.463699Z",
     "start_time": "2020-12-24T05:50:13.353175Z"
    },
    "id": "R8NKznBCLB2_",
    "outputId": "73a28d1d-437c-415e-d158-b6fa52dbbc4a"
   },
   "outputs": [],
   "source": [
    "if TRAIN:\n",
    "    config = Config()\n",
    "    agent = DoubleDQNAgent(env, config.replay_memory_size, config.min_replay_memory_size)\n",
    "\n",
    "    stats = agent.train(config=config,\n",
    "                       load_from_checkpoint=True,\n",
    "                       last_episode=2)"
   ]
  },
  {
   "cell_type": "markdown",
   "metadata": {
    "id": "J9Ci_h2VKYfr"
   },
   "source": [
    "## Let's check the training results"
   ]
  },
  {
   "cell_type": "markdown",
   "metadata": {
    "id": "c3-h2RloyRhF"
   },
   "source": [
    "### Training Losses and Rewards"
   ]
  },
  {
   "cell_type": "code",
   "execution_count": 12,
   "metadata": {
    "ExecuteTime": {
     "end_time": "2020-12-24T05:50:13.707718Z",
     "start_time": "2020-12-24T05:50:13.466421Z"
    },
    "id": "0bifmf-xfQ2X"
   },
   "outputs": [],
   "source": [
    "all_rewards = []\n",
    "load_stats_from_file = True # Set this to true if want to load training statistics from files\n",
    "\n",
    "if load_stats_from_file:\n",
    "    last_episodes = [1,2,3,4] # Update this list with every new run end episode\n",
    "    for episode in last_episodes:\n",
    "        stats_file = os.path.join(EXP_DIR, \"stats/stats_{}.pt\".format(episode))\n",
    "        stats = torch.load(stats_file)\n",
    "        all_rewards += stats[\"episode_rewards\"]\n",
    "else:\n",
    "    all_rewards += stats[\"episode_rewards\"]"
   ]
  },
  {
   "cell_type": "code",
   "execution_count": 13,
   "metadata": {
    "ExecuteTime": {
     "end_time": "2020-12-24T05:50:13.965275Z",
     "start_time": "2020-12-24T05:50:13.710912Z"
    },
    "id": "VGJ-w10Dy5wc"
   },
   "outputs": [
    {
     "data": {
      "image/png": "[encoded data removed]",
      "text/plain": [
       "<Figure size 1080x360 with 1 Axes>"
      ]
     },
     "metadata": {
      "needs_background": "light"
     },
     "output_type": "display_data"
    }
   ],
   "source": [
    "def plot_stats(rewards):\n",
    "    rewards = pd.Series(all_rewards).rolling(200).mean()\n",
    "    fig = plt.figure(figsize=(15,5))\n",
    "    ax1 = fig.add_subplot(121)\n",
    "\n",
    "    ax1.plot(rewards)\n",
    "    ax1.set_title(\"Episode returns over time (smoothing window = 200 episodes)\")\n",
    "    ax1.set_xlabel(\"Episode\")\n",
    "    ax1.set_ylabel(\"Total Episode Score\")\n",
    "\n",
    "plot_stats(all_rewards)"
   ]
  },
  {
   "cell_type": "markdown",
   "metadata": {},
   "source": [
    "### Let's see the agent's behaviour"
   ]
  },
  {
   "cell_type": "code",
   "execution_count": 14,
   "metadata": {
    "ExecuteTime": {
     "end_time": "2020-12-24T05:50:13.984912Z",
     "start_time": "2020-12-24T05:50:13.967934Z"
    },
    "code_folding": [
     16
    ]
   },
   "outputs": [],
   "source": [
    "def generate_gif(frame_number, frames_for_gif, reward, path):\n",
    "    for idx, frame_idx in enumerate(frames_for_gif): \n",
    "        frames_for_gif[idx] = frame_idx.astype(np.uint8)\n",
    "    imageio.mimsave(path, frames_for_gif, duration=1/30)\n",
    "    \n",
    "def display_gif(path):\n",
    "    return IPdisplay.HTML('<img src=\"{}\">'.format(path))\n",
    "\n",
    "def run_episode(env, policy, epsilon, save_path=None):\n",
    "    frames_for_gif = []\n",
    "    state = env.reset()\n",
    "    frames_for_gif.append(state)\n",
    "    state = preprocess(state)\n",
    "    state = np.vstack([state] * 4)\n",
    "    final_score = 0\n",
    "    t = 0\n",
    "    while t < 20000:\n",
    "        action_probs = policy(torch.from_numpy(state / 255.0).float().to(DEVICE).unsqueeze(0), epsilon)\n",
    "        action = np.random.choice(np.arange(len(action_probs)), p=action_probs)\n",
    "        action_reward = 0\n",
    "        next_state, reward, done, info = env.step(action)\n",
    "        frames_for_gif.append(np.transpose(next_state, axes=[0,1,2]))\n",
    "        next_state = preprocess(next_state)\n",
    "        next_state = np.append(state[1:,:,:], next_state, axis=0)\n",
    "        final_score += reward\n",
    "        state = next_state\n",
    "        t += 1\n",
    "        if done:\n",
    "            print(\"Episode finished after {} timesteps\".format(t))\n",
    "            print(\"Final Score: {}\".format(int(final_score)))\n",
    "            break\n",
    "    if save_path:\n",
    "        generate_gif(t, frames_for_gif, final_score, \n",
    "                     os.path.join(save_path, f\"episode_{t}_score_{final_score}.gif\"))\n",
    "        return os.path.join(save_path, f\"episode_{t}_score_{final_score}.gif\")\n",
    "    return None"
   ]
  },
  {
   "cell_type": "code",
   "execution_count": 15,
   "metadata": {
    "ExecuteTime": {
     "end_time": "2020-12-24T05:50:24.488385Z",
     "start_time": "2020-12-24T05:50:13.987746Z"
    }
   },
   "outputs": [
    {
     "name": "stdout",
     "output_type": "stream",
     "text": [
      "Episode finished after 1555 timesteps\n",
      "Final Score: 263\n"
     ]
    },
    {
     "data": {
      "text/html": [
       "<img src=\"Breakout/videos/episode_1555_score_263.0.gif\">"
      ],
      "text/plain": [
       "<IPython.core.display.HTML object>"
      ]
     },
     "execution_count": 15,
     "metadata": {},
     "output_type": "execute_result"
    }
   ],
   "source": [
    "checkpoint_name = \"model_25m_steps.pt\"\n",
    "checkpoint_name = os.path.join(os.path.join(EXP_DIR, f\"models/{checkpoint_name}\"))\n",
    "\n",
    "online_network = EstimatorNetwork(env).to(DEVICE)\n",
    "online_network.load_state_dict(torch.load(checkpoint_name, map_location=torch.device(DEVICE)))\n",
    "online_network.eval()\n",
    "policy = get_epsilon_greedy_policy(online_network)\n",
    "\n",
    "epsilon = 0.01\n",
    "saved_path = run_episode(env, policy, epsilon, os.path.join(EXP_DIR, \"videos\"))\n",
    "display_gif(saved_path)"
   ]
  },
  {
   "cell_type": "code",
   "execution_count": null,
   "metadata": {},
   "outputs": [],
   "source": []
  }
 ],
 "metadata": {
  "kernelspec": {
   "display_name": "Python 3",
   "language": "python",
   "name": "python3"
  },
  "language_info": {
   "codemirror_mode": {
    "name": "ipython",
    "version": 3
   },
   "file_extension": ".py",
   "mimetype": "text/x-python",
   "name": "python",
   "nbconvert_exporter": "python",
   "pygments_lexer": "ipython3",
   "version": "3.8.3"
  },
  "toc": {
   "base_numbering": 1,
   "nav_menu": {},
   "number_sections": true,
   "sideBar": true,
   "skip_h1_title": false,
   "title_cell": "Table of Contents",
   "title_sidebar": "Contents",
   "toc_cell": false,
   "toc_position": {},
   "toc_section_display": true,
   "toc_window_display": true
  }
 },
 "nbformat": 4,
 "nbformat_minor": 4
}
