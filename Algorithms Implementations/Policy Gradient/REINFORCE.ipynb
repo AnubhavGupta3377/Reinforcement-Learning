{
  "nbformat": 4,
  "nbformat_minor": 0,
  "metadata": {
    "colab": {
      "name": "REINFORCE.ipynb",
      "provenance": [],
      "collapsed_sections": []
    },
    "kernelspec": {
      "name": "python3",
      "display_name": "Python 3"
    }
  },
  "cells": [
    {
      "cell_type": "markdown",
      "metadata": {
        "id": "mmm2sw2lmo8D",
        "colab_type": "text"
      },
      "source": [
        "## REINFORCE with Baseline: Monte-Carlo Policy Gradient\n",
        "\n",
        "Here is the implementation of **REINFORCE-with-Baseline**, a Monte-Carlo policy gradient algorithm. Algorithm is run on following environment from openai.gym:\n",
        "- CliffWalking-v0"
      ]
    },
    {
      "cell_type": "code",
      "metadata": {
        "id": "-ic_PPDAmk8z",
        "colab_type": "code",
        "colab": {}
      },
      "source": [
        "import sys\n",
        "import numpy as np\n",
        "import pandas as pd\n",
        "import gym\n",
        "from gym import logger as gymlogger\n",
        "from tqdm import tqdm\n",
        "import torch\n",
        "import torch.nn as nn\n",
        "import torch.optim as optim\n",
        "\n",
        "import matplotlib\n",
        "import matplotlib.pyplot as plt\n",
        "from mpl_toolkits.axes_grid1 import make_axes_locatable\n",
        "matplotlib.style.use('ggplot')\n",
        "gymlogger.set_level(40) #error only\n",
        "%matplotlib inline"
      ],
      "execution_count": 0,
      "outputs": []
    },
    {
      "cell_type": "markdown",
      "metadata": {
        "id": "6onvSkilngre",
        "colab_type": "text"
      },
      "source": [
        "### CliffWalking environment\n",
        "\n",
        "- A state in the current position in 12x4 grid\n",
        "- Action is one of 4 possible directions left,right,up,down"
      ]
    },
    {
      "cell_type": "code",
      "metadata": {
        "id": "3KMYWwWwnYJo",
        "colab_type": "code",
        "outputId": "a8f7bd67-a9c1-4e76-fbc6-5e3142f574cd",
        "colab": {
          "base_uri": "https://localhost:8080/",
          "height": 51
        }
      },
      "source": [
        "env = gym.make(\"CliffWalking-v0\")\n",
        "print(env.observation_space)\n",
        "print(env.action_space)"
      ],
      "execution_count": 2,
      "outputs": [
        {
          "output_type": "stream",
          "text": [
            "Discrete(48)\n",
            "Discrete(4)\n"
          ],
          "name": "stdout"
        }
      ]
    },
    {
      "cell_type": "markdown",
      "metadata": {
        "id": "eE6RXTZRnkIo",
        "colab_type": "text"
      },
      "source": [
        "### REINFORCE Implementation\n",
        "- Both policy and value functions are approximated using single layer neural networks (linear approximation)\n",
        "\n",
        "- A workaround is used to make the episode lengths smaller. Terminate the episode as soon as the agent falls off the cliff"
      ]
    },
    {
      "cell_type": "code",
      "metadata": {
        "id": "VlXutsAonltw",
        "colab_type": "code",
        "colab": {}
      },
      "source": [
        "class ValueEstimator(nn.Module):\n",
        "    \"\"\"\n",
        "    Value function approximator. Used single layer neural network\n",
        "    (same is linear weighting) for approximating the value function.\n",
        "    \"\"\"\n",
        "    def __init__(self, env, lr):\n",
        "        super(ValueEstimator, self).__init__()\n",
        "        self.env = env\n",
        "        self.num_states = env.observation_space.n\n",
        "        self.model = nn.Sequential(nn.Linear(self.num_states, 1))\n",
        "        self.optimizer = torch.optim.Adam(self.parameters(), lr=lr)\n",
        "\n",
        "    def forward(self, state):\n",
        "        state_one_hot = torch.zeros(self.num_states)\n",
        "        state_one_hot[state] = 1\n",
        "        return self.model(state_one_hot)\n",
        "    \n",
        "    def update(self, current_value, current_return):\n",
        "        loss_fn = nn.MSELoss()\n",
        "        loss = loss_fn(current_value, torch.tensor([current_return]))\n",
        "        self.optimizer.zero_grad()\n",
        "        loss.backward()\n",
        "        self.optimizer.step()"
      ],
      "execution_count": 0,
      "outputs": []
    },
    {
      "cell_type": "code",
      "metadata": {
        "id": "hoPOc-C11ure",
        "colab_type": "code",
        "colab": {}
      },
      "source": [
        "class PolicyEstimator(nn.Module):\n",
        "    \"\"\"\n",
        "    Policy approximator. Used single layer neural network\n",
        "    (same is linear weighting) for approximating the value function.\n",
        "    Softmax activation to get the probabilities of different actions.\n",
        "    \"\"\"\n",
        "    def __init__(self, env, lr, min_prob=1e-4):\n",
        "        super(PolicyEstimator, self).__init__()\n",
        "        self.env = env\n",
        "        self.num_states = env.observation_space.n\n",
        "        self.num_actions = env.action_space.n\n",
        "        self.min_prob = min_prob\n",
        "        self.model = nn.Sequential(\n",
        "            nn.Linear(self.num_states, self.num_actions),\n",
        "            nn.Softmax(dim=-1)\n",
        "            )\n",
        "        self.optimizer = torch.optim.Adam(self.parameters(), lr=lr)\n",
        "\n",
        "    def forward(self, state):\n",
        "        state_one_hot = torch.zeros(self.num_states)\n",
        "        state_one_hot[state] = 1\n",
        "        return self.model(state_one_hot)\n",
        "\n",
        "    def update(self, state, action, advantage):\n",
        "        state_one_hot = torch.zeros(self.num_states)\n",
        "        state_one_hot[state] = 1\n",
        "        action_prob = self.model(state_one_hot).gather(0, torch.tensor(action))\n",
        "        action_prob = torch.clamp(action_prob, min=self.min_prob)\n",
        "        loss = - torch.log(action_prob) * advantage\n",
        "        self.optimizer.zero_grad()\n",
        "        loss.backward()\n",
        "        self.optimizer.step()"
      ],
      "execution_count": 0,
      "outputs": []
    },
    {
      "cell_type": "code",
      "metadata": {
        "id": "EAHKlg5HnjSy",
        "colab_type": "code",
        "colab": {}
      },
      "source": [
        "class ReinforceAgent:\n",
        "    \"\"\"\n",
        "    Reinforcement learning agent that learns policy using\n",
        "    REINFORCE-with-Baseline: MC based policy gradient algorithm\n",
        "    Args:\n",
        "        env: gym environment\n",
        "        policy_lr: learning rate for policy estimator\n",
        "        value_lr: learning rate for value function estimator\n",
        "    \"\"\"\n",
        "    def __init__(self, env, policy_lr=0.003, value_lr=0.003):\n",
        "        self.env = env\n",
        "        self.min_prob = 1e-4\n",
        "        self.policy_estimator = PolicyEstimator(env, policy_lr, self.min_prob)\n",
        "        self.value_estimator = ValueEstimator(env, value_lr)\n",
        "\n",
        "    def sample_episode(self):\n",
        "        \"\"\"\n",
        "        Sample one episode according to approximate policy\n",
        "        \"\"\"\n",
        "        state = self.env.reset()\n",
        "        episode = []\n",
        "        num_actions = self.env.action_space.n\n",
        "        while True:\n",
        "            action_probs = self.policy_estimator(state).detach().numpy()\n",
        "            action_probs = (1-self.min_prob)*action_probs + self.min_prob/num_actions\n",
        "            action = np.random.choice(np.arange(len(action_probs)), p=action_probs)\n",
        "            next_state, reward, done, info = env.step(action)\n",
        "            episode.append((state,action,reward))\n",
        "            if done or reward==-100: break # Terminate episode if agent falls off the cliff\n",
        "            state = next_state\n",
        "        return episode    \n",
        "\n",
        "    def train(self, gamma=1.0, num_episodes=10000):\n",
        "        \"\"\"\n",
        "        Train the agent with REINFORCE-with-Baseline policy gradient\n",
        "\n",
        "        Args:\n",
        "            gamma: Discount factor\n",
        "            num_episodes: Maximum number of episodes to train\n",
        "        \"\"\"\n",
        "        stats = {'episode_lengths': np.zeros(num_episodes),\n",
        "                'episode_returns': np.zeros(num_episodes)}\n",
        "\n",
        "        for episode_num in tqdm(range(1, num_episodes + 1), unit='episode', position=0, leave=True):\n",
        "            episode = self.sample_episode()\n",
        "            current_return = 0\n",
        "            T = len(episode)\n",
        "            for t in reversed(range(T)):\n",
        "                state, action, reward = episode[t]\n",
        "                current_return = gamma*current_return + reward\n",
        "                cur_value = self.value_estimator(state)\n",
        "                advantage = current_return - cur_value.detach()\n",
        "\n",
        "                # Update stats\n",
        "                stats['episode_returns'][episode_num-1] += reward\n",
        "                stats['episode_lengths'][episode_num-1] += 1\n",
        "\n",
        "                self.value_estimator.update(cur_value, current_return)\n",
        "                self.policy_estimator.update(state, action, advantage * gamma**t)\n",
        "        return stats"
      ],
      "execution_count": 0,
      "outputs": []
    },
    {
      "cell_type": "code",
      "metadata": {
        "id": "4ckFjiRVnat8",
        "colab_type": "code",
        "outputId": "14865da1-c487-4971-fa5b-09f187266151",
        "colab": {
          "base_uri": "https://localhost:8080/",
          "height": 34
        }
      },
      "source": [
        "agent = ReinforceAgent(env, policy_lr=0.003, value_lr=0.003)\n",
        "stats = agent.train(gamma=1.0, num_episodes=20000)"
      ],
      "execution_count": 12,
      "outputs": [
        {
          "output_type": "stream",
          "text": [
            "100%|██████████| 20000/20000 [04:06<00:00, 81.28episode/s]\n"
          ],
          "name": "stderr"
        }
      ]
    },
    {
      "cell_type": "markdown",
      "metadata": {
        "id": "jbR1X8rbEg9p",
        "colab_type": "text"
      },
      "source": [
        "### Training Statistics"
      ]
    },
    {
      "cell_type": "code",
      "metadata": {
        "id": "Th7y5DpdB16U",
        "colab_type": "code",
        "colab": {
          "base_uri": "https://localhost:8080/",
          "height": 408
        },
        "outputId": "eecb2961-0679-40c1-cccb-a406d19a12d9"
      },
      "source": [
        "def plot_stats(stats):\n",
        "    episode_returns = pd.Series(stats['episode_returns']).rolling(100).mean()\n",
        "    episode_lengths = pd.Series(stats['episode_lengths']).rolling(100).mean()\n",
        "    fig = plt.figure(figsize=(15,6))\n",
        "    ax1 = fig.add_subplot(121)\n",
        "    ax2 = fig.add_subplot(122)\n",
        "\n",
        "    ax1.plot(episode_returns)\n",
        "    ax1.set_title(\"Episode returns over time (smoothing window = 100)\")\n",
        "    ax1.set_xlabel(\"Episode\")\n",
        "    ax1.set_ylabel(\"Total reward in Episode \")\n",
        "\n",
        "    ax2.plot(episode_lengths)\n",
        "    ax2.set_title(\"Episode lenghts over time (smoothing window = 100)\")\n",
        "    ax2.set_xlabel(\"Episode\")\n",
        "    ax2.set_ylabel(\"Episode length\")\n",
        "    plt.show()\n",
        "\n",
        "plot_stats(stats)"
      ],
      "execution_count": 13,
      "outputs": [
        {
          "output_type": "display_data",
          "data": {
            "image/png": "[encoded data removed]",
            "text/plain": [
              "<Figure size 1080x432 with 2 Axes>"
            ]
          },
          "metadata": {
            "tags": [],
            "needs_background": "light"
          }
        }
      ]
    },
    {
      "cell_type": "markdown",
      "metadata": {
        "id": "IHsnDrmfPNZ-",
        "colab_type": "text"
      },
      "source": [
        "# Visualizing the learned policy"
      ]
    },
    {
      "cell_type": "code",
      "metadata": {
        "id": "XYn1quNrEkRH",
        "colab_type": "code",
        "colab": {
          "base_uri": "https://localhost:8080/",
          "height": 1000
        },
        "outputId": "d5d69823-fc20-4603-9426-d4572ce68c19"
      },
      "source": [
        "def display_episode(env, policy_estimator):\n",
        "    state = env.reset()\n",
        "    final_score = 0\n",
        "    for t in range(1000):\n",
        "        env.render()\n",
        "        action_probs = policy_estimator(state).detach().numpy()\n",
        "        action = np.random.choice(np.arange(len(action_probs)), p=action_probs)\n",
        "        next_state, reward, done, info = env.step(action)\n",
        "        final_score += reward\n",
        "        state = next_state\n",
        "        if done:\n",
        "            print(\"Episode finished after {} timesteps\".format(t+1))\n",
        "            print(\"Final Score: {}\".format(int(final_score)))\n",
        "            break\n",
        "\n",
        "display_episode(env, agent.policy_estimator)"
      ],
      "execution_count": 14,
      "outputs": [
        {
          "output_type": "stream",
          "text": [
            "o  o  o  o  o  o  o  o  o  o  o  o\n",
            "o  o  o  o  o  o  o  o  o  o  o  o\n",
            "o  o  o  o  o  o  o  o  o  o  o  o\n",
            "x  C  C  C  C  C  C  C  C  C  C  T\n",
            "\n",
            "o  o  o  o  o  o  o  o  o  o  o  o\n",
            "o  o  o  o  o  o  o  o  o  o  o  o\n",
            "x  o  o  o  o  o  o  o  o  o  o  o\n",
            "o  C  C  C  C  C  C  C  C  C  C  T\n",
            "\n",
            "o  o  o  o  o  o  o  o  o  o  o  o\n",
            "o  o  o  o  o  o  o  o  o  o  o  o\n",
            "o  x  o  o  o  o  o  o  o  o  o  o\n",
            "o  C  C  C  C  C  C  C  C  C  C  T\n",
            "\n",
            "o  o  o  o  o  o  o  o  o  o  o  o\n",
            "o  o  o  o  o  o  o  o  o  o  o  o\n",
            "o  o  x  o  o  o  o  o  o  o  o  o\n",
            "o  C  C  C  C  C  C  C  C  C  C  T\n",
            "\n",
            "o  o  o  o  o  o  o  o  o  o  o  o\n",
            "o  o  o  o  o  o  o  o  o  o  o  o\n",
            "o  o  o  x  o  o  o  o  o  o  o  o\n",
            "o  C  C  C  C  C  C  C  C  C  C  T\n",
            "\n",
            "o  o  o  o  o  o  o  o  o  o  o  o\n",
            "o  o  o  o  o  o  o  o  o  o  o  o\n",
            "o  o  o  o  x  o  o  o  o  o  o  o\n",
            "o  C  C  C  C  C  C  C  C  C  C  T\n",
            "\n",
            "o  o  o  o  o  o  o  o  o  o  o  o\n",
            "o  o  o  o  o  o  o  o  o  o  o  o\n",
            "o  o  o  o  o  x  o  o  o  o  o  o\n",
            "o  C  C  C  C  C  C  C  C  C  C  T\n",
            "\n",
            "o  o  o  o  o  o  o  o  o  o  o  o\n",
            "o  o  o  o  o  o  o  o  o  o  o  o\n",
            "o  o  o  o  o  o  x  o  o  o  o  o\n",
            "o  C  C  C  C  C  C  C  C  C  C  T\n",
            "\n",
            "o  o  o  o  o  o  o  o  o  o  o  o\n",
            "o  o  o  o  o  o  o  o  o  o  o  o\n",
            "o  o  o  o  o  o  o  x  o  o  o  o\n",
            "o  C  C  C  C  C  C  C  C  C  C  T\n",
            "\n",
            "o  o  o  o  o  o  o  o  o  o  o  o\n",
            "o  o  o  o  o  o  o  o  o  o  o  o\n",
            "o  o  o  o  o  o  o  o  x  o  o  o\n",
            "o  C  C  C  C  C  C  C  C  C  C  T\n",
            "\n",
            "o  o  o  o  o  o  o  o  o  o  o  o\n",
            "o  o  o  o  o  o  o  o  o  o  o  o\n",
            "o  o  o  o  o  o  o  o  o  x  o  o\n",
            "o  C  C  C  C  C  C  C  C  C  C  T\n",
            "\n",
            "o  o  o  o  o  o  o  o  o  o  o  o\n",
            "o  o  o  o  o  o  o  o  o  o  o  o\n",
            "o  o  o  o  o  o  o  o  o  o  x  o\n",
            "o  C  C  C  C  C  C  C  C  C  C  T\n",
            "\n",
            "o  o  o  o  o  o  o  o  o  o  o  o\n",
            "o  o  o  o  o  o  o  o  o  o  o  o\n",
            "o  o  o  o  o  o  o  o  o  o  o  x\n",
            "o  C  C  C  C  C  C  C  C  C  C  T\n",
            "\n",
            "Episode finished after 13 timesteps\n",
            "Final Score: -13\n"
          ],
          "name": "stdout"
        }
      ]
    }
  ]
}