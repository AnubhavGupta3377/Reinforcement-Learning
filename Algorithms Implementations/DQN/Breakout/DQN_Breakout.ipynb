{
 "cells": [
  {
   "cell_type": "markdown",
   "metadata": {
    "colab_type": "text",
    "id": "du-B3NfH5i5C"
   },
   "source": [
    "# Deep Q-Networks (DQN)"
   ]
  },
  {
   "cell_type": "markdown",
   "metadata": {
    "colab_type": "text",
    "id": "og9Q4TU85os5"
   },
   "source": [
    "#### Google Drive directory for project (Google Colab Specific)\n",
    "\n",
    "Required if you need to save the model checkpoints in google drive. I also save the replay memory after every few episodes."
   ]
  },
  {
   "cell_type": "code",
   "execution_count": null,
   "metadata": {
    "colab": {
     "base_uri": "https://localhost:8080/",
     "height": 0
    },
    "colab_type": "code",
    "id": "RL0-2DnC5fK_",
    "outputId": "5b2aab13-c162-4701-ff32-20580fb9e51b"
   },
   "outputs": [],
   "source": [
    "from google.colab import drive\n",
    "drive.mount('/content/gdrive')"
   ]
  },
  {
   "cell_type": "markdown",
   "metadata": {
    "colab_type": "text",
    "id": "fzpYRM2m5vUk"
   },
   "source": [
    "#### Import Libraries"
   ]
  },
  {
   "cell_type": "code",
   "execution_count": 0,
   "metadata": {
    "colab": {},
    "colab_type": "code",
    "id": "PdJIjZju5r6b"
   },
   "outputs": [],
   "source": [
    "import numpy as np\n",
    "import pandas as pd\n",
    "import os\n",
    "import random\n",
    "import sys\n",
    "import psutil\n",
    "from tqdm import tqdm\n",
    "from collections import deque, namedtuple\n",
    "from PIL import Image\n",
    "import torch\n",
    "import torch.nn as nn\n",
    "import torch.optim as optim\n",
    "import torchvision.transforms as T\n",
    "import torch.nn.functional as F\n",
    "import gym\n",
    "from gym import logger as gymlogger\n",
    "import matplotlib\n",
    "import matplotlib.pyplot as plt\n",
    "\n",
    "matplotlib.style.use('ggplot')\n",
    "gymlogger.set_level(40) #error only\n",
    "%matplotlib inline\n",
    "\n",
    "device = torch.device(\"cuda\" if torch.cuda.is_available() else \"cpu\")"
   ]
  },
  {
   "cell_type": "markdown",
   "metadata": {
    "colab_type": "text",
    "id": "VqfeKFMK6MWR"
   },
   "source": [
    "#### Environment, Constants and Model Parameters"
   ]
  },
  {
   "cell_type": "code",
   "execution_count": 3,
   "metadata": {
    "colab": {
     "base_uri": "https://localhost:8080/",
     "height": 0
    },
    "colab_type": "code",
    "id": "HrP59epOoY2u",
    "outputId": "811d7cb4-66c0-434a-ced3-a46fb4e007e3"
   },
   "outputs": [
    {
     "name": "stdout",
     "output_type": "stream",
     "text": [
      "Box(210, 160, 3)\n",
      "Discrete(4)\n",
      "['NOOP', 'FIRE', 'RIGHT', 'LEFT']\n"
     ]
    }
   ],
   "source": [
    "env = gym.make(\"Breakout-v0\").env\n",
    "\n",
    "print(env.observation_space)\n",
    "print(env.action_space)\n",
    "print(env.get_action_meanings())"
   ]
  },
  {
   "cell_type": "code",
   "execution_count": 0,
   "metadata": {
    "colab": {},
    "colab_type": "code",
    "id": "tz1rK3nfIt7J"
   },
   "outputs": [],
   "source": [
    "# Constants\n",
    "TEST_MODULES = False # Whether to run test cases for individual modules\n",
    "INPUT_SHAPE = env.observation_space.shape # (210,160,3) For Atari Games\n",
    "PREPROCESSED_STATE_SHAPE = (84,84)\n",
    "NUM_ACTIONS = env.action_space.n\n",
    "\n",
    "# Parameters\n",
    "gamma = 0.99\n",
    "replay_memory_size = 80_000\n",
    "min_replay_memory_size = 30_000\n",
    "target_update_every = 10_000\n",
    "num_episodes = 20_000\n",
    "max_steps = 10_000_000\n",
    "epsilon_start = 1.0\n",
    "epsilon_end = 0.1\n",
    "num_steps_epsilon_decay = 500_000\n",
    "batch_size = 32\n",
    "repeat_action = 4\n",
    "model_save_freq = 1500 # Episodes\n",
    "exp_dir = \"/content/gdrive/My Drive/Colab Files/dqn_breakout\""
   ]
  },
  {
   "cell_type": "markdown",
   "metadata": {
    "colab_type": "text",
    "id": "hgTCw-Vsypf_"
   },
   "source": [
    "#### Preprocess Atari Image"
   ]
  },
  {
   "cell_type": "code",
   "execution_count": 0,
   "metadata": {
    "colab": {},
    "colab_type": "code",
    "id": "Pg08EUznys29"
   },
   "outputs": [],
   "source": [
    "resize = T.Compose([T.ToPILImage(),\n",
    "                    T.Grayscale(),\n",
    "                    T.Resize(PREPROCESSED_STATE_SHAPE, interpolation=Image.CUBIC),\n",
    "                    T.ToTensor()])\n",
    "\n",
    "def take_step_and_preprocess(env, action=None, repeat_action=4):\n",
    "    \"\"\"\n",
    "    Takes the action or resets the environment if action = None\n",
    "    Converts raw atari state from (210 x 160 x 3) -> (84 x 84)\n",
    "\n",
    "    Args:\n",
    "        repeat_action: How many steps to repeat the same action for\n",
    "    \"\"\"\n",
    "    total_reward = 0\n",
    "    done = False\n",
    "    info = ''\n",
    "\n",
    "    if action == None:\n",
    "        screen = env.reset()\n",
    "    else:\n",
    "        cur_screen = env._get_obs()\n",
    "        for i in range(repeat_action):\n",
    "            next_screen, reward, done, info = env.step(action)\n",
    "            total_reward += reward\n",
    "            screen = np.maximum(cur_screen, next_screen)\n",
    "            cur_screen = next_screen\n",
    "            if done: break\n",
    "    state = screen.transpose((2, 0, 1))\n",
    "    state = state[:, 50:200, 5:155] # For Breakout\n",
    "    state = np.ascontiguousarray(state, dtype=np.float32) / 255\n",
    "    state = torch.from_numpy(state)\n",
    "    state = resize(state)\n",
    "    return state.to(device), total_reward, done, info"
   ]
  },
  {
   "cell_type": "code",
   "execution_count": 0,
   "metadata": {
    "colab": {},
    "colab_type": "code",
    "id": "XZWWw6kIE1cR"
   },
   "outputs": [],
   "source": [
    "def test_preprocessing():\n",
    "    preprocessed_image, _, _, _ = take_step_and_preprocess(env)\n",
    "    assert preprocessed_image.shape==(1,84,84), \"Preprocessed image not of desired size\"\n",
    "    print(\"Test: OK\")\n",
    "\n",
    "if TEST_MODULES: test_preprocessing()"
   ]
  },
  {
   "cell_type": "markdown",
   "metadata": {
    "colab_type": "text",
    "id": "zmqliBbIOtu1"
   },
   "source": [
    "#### Estimator Network\n",
    "- This network is used by both online network and target network\n",
    "- Both networks have different weights"
   ]
  },
  {
   "cell_type": "code",
   "execution_count": 0,
   "metadata": {
    "colab": {},
    "colab_type": "code",
    "id": "mYHMFwJ4iptS"
   },
   "outputs": [],
   "source": [
    "class EstimatorNetwork(nn.Module):\n",
    "    \"\"\"\n",
    "    Neural network used by online network and target network \n",
    "    \"\"\"\n",
    "    def __init__(self, env):\n",
    "        super(EstimatorNetwork, self).__init__()\n",
    "        self.env = env\n",
    "        num_actions = env.action_space.n\n",
    "        self.model = nn.Sequential(\n",
    "            nn.Conv2d(4, 32, 8, 4),\n",
    "            nn.BatchNorm2d(32),\n",
    "            nn.ReLU(),\n",
    "            nn.Conv2d(32, 64, 4, 2),\n",
    "            nn.BatchNorm2d(64),\n",
    "            nn.ReLU(),\n",
    "            nn.Conv2d(64, 64, 3, 1),\n",
    "            nn.BatchNorm2d(64),\n",
    "            nn.ReLU(),\n",
    "            nn.Flatten(),\n",
    "            nn.Linear(3136, 512),\n",
    "            nn.ReLU(),\n",
    "            nn.Linear(512, num_actions)\n",
    "        )\n",
    "    \n",
    "    def forward(self, states):\n",
    "        return self.model(states)"
   ]
  },
  {
   "cell_type": "code",
   "execution_count": 0,
   "metadata": {
    "colab": {},
    "colab_type": "code",
    "id": "9IGyWtBWN3HO"
   },
   "outputs": [],
   "source": [
    "# Test that the network actually learns\n",
    "def test_estimator_network():\n",
    "    estimator = EstimatorNetwork(env).to(device)\n",
    "    observation, _, _, _ = take_step_and_preprocess(env)\n",
    "    observations = torch.cat((observation, observation), 0)\n",
    "    observations = torch.stack([observations] * 4, axis=1)\n",
    "\n",
    "    y = torch.tensor([[10.0,10.0,10.0,10.0],[10.0,10.0,10.0,10.0]], device=device)\n",
    "    optimizer = torch.optim.Adam(estimator.parameters(), lr=0.1)\n",
    "    for i in range(200):\n",
    "        predictions = estimator(observations)\n",
    "        loss = F.smooth_l1_loss(predictions, y)\n",
    "        optimizer.zero_grad()\n",
    "        loss.backward()\n",
    "        optimizer.step()\n",
    "\n",
    "    new_preds = estimator(observations)\n",
    "    assert max(new_preds[0]) < 11 and min(new_preds[0]) > 9, \"Test failed for update\"\n",
    "    assert max(new_preds[1]) < 11 and min(new_preds[1]) > 9, \"Test failed for update\"\n",
    "    print(\"Test2: OK\")\n",
    "\n",
    "if TEST_MODULES: test_estimator_network()"
   ]
  },
  {
   "cell_type": "markdown",
   "metadata": {
    "colab_type": "text",
    "id": "BVtedR8SO45Z"
   },
   "source": [
    "#### DQN Agent"
   ]
  },
  {
   "cell_type": "code",
   "execution_count": 0,
   "metadata": {
    "colab": {},
    "colab_type": "code",
    "id": "_xTRVMUT_QFT"
   },
   "outputs": [],
   "source": [
    "def get_epsilon_greedy_policy(estimator):\n",
    "    \"\"\"\n",
    "    Make an epsilon-greedy policy from given Q-values\n",
    "    Returns:\n",
    "        policy: epsilon-greedy policy which takes random action with\n",
    "                probability epsilon/num_actions, otherwise takes\n",
    "                greedy action\n",
    "    \"\"\"\n",
    "    def policy(state, epsilon):\n",
    "        with torch.no_grad():\n",
    "            q_values = estimator(state)\n",
    "        num_actions = q_values.size(1)\n",
    "        greedy_action = torch.argmax(q_values).item()\n",
    "        action_probs = np.ones((num_actions)) * (epsilon/num_actions)\n",
    "        action_probs[greedy_action] += 1-epsilon\n",
    "        return action_probs\n",
    "    \n",
    "    return policy"
   ]
  },
  {
   "cell_type": "code",
   "execution_count": 0,
   "metadata": {
    "colab": {},
    "colab_type": "code",
    "id": "853mlm5DoefU"
   },
   "outputs": [],
   "source": [
    "class DQNAgent:\n",
    "    def __init__(self, env, replay_memory_size, exp_dir):\n",
    "        \"\"\"\n",
    "        Initialize the deep Q-learning agent. Main components of DQN include\n",
    "        - two estimator networks\n",
    "            1. Online network\n",
    "            2. Target network\n",
    "        - replay memory\n",
    "\n",
    "        Args:\n",
    "            replay_memory_size: Size of replay memory\n",
    "            exp_dir: Experiemnt directory\n",
    "        \"\"\"\n",
    "\n",
    "        # DQN components\n",
    "        self.env = env\n",
    "        self.online_network = EstimatorNetwork(env).to(device)\n",
    "        self.target_network = EstimatorNetwork(env).to(device)\n",
    "        self.replay_memory = deque(maxlen=replay_memory_size)\n",
    "        self.copy_network_weights()\n",
    "\n",
    "        # Optimizer to be used for training\n",
    "        self.optimizer = torch.optim.RMSprop(self.online_network.parameters(), lr=0.00025, alpha=0.99, eps=1e-06)\n",
    "        self.loss = torch.nn.MSELoss()\n",
    "        self.exp_dir = exp_dir\n",
    "\n",
    "    def copy_network_weights(self):\n",
    "        self.target_network.load_state_dict(self.online_network.state_dict())\n",
    "\n",
    "    def create_checkpoint(self, episode, stats):\n",
    "        model_dir = os.path.join(exp_dir, \"models\")\n",
    "        model_filename = os.path.join(model_dir, \"model_{}.pt\".format(episode))\n",
    "        optimizer_filename = os.path.join(model_dir, \"optimizer_{}.pt\".format(episode))\n",
    "        replay_filename = os.path.join(exp_dir, \"replay_{}.pt\".format(episode))\n",
    "        stats_filename = os.path.join(exp_dir, \"stats_{}.pt\".format(episode))\n",
    "        try:\n",
    "            torch.save(self.online_network.state_dict(), model_filename)\n",
    "            torch.save(self.optimizer.state_dict(), optimizer_filename)\n",
    "            torch.save(self.replay_memory, replay_filename)\n",
    "            torch.save(stats, stats_filename)\n",
    "            print(\"\\nCheckpoint created for episode {}\".format(episode))\n",
    "        except:\n",
    "            print (\"\\nCouldn't create checkpoint.\")\n",
    "\n",
    "    def load_checkpoint(self, episode):\n",
    "        model_dir = os.path.join(exp_dir, \"models\")\n",
    "        model_filename = os.path.join(model_dir, \"model_{}.pt\".format(episode))\n",
    "        optimizer_filename = os.path.join(model_dir, \"optimizer_{}.pt\".format(episode))\n",
    "        replay_filename = os.path.join(exp_dir, \"replay_{}.pt\".format(episode))\n",
    "        stats_filename = os.path.join(exp_dir, \"stats_{}.pt\".format(episode))\n",
    "        try:\n",
    "            self.online_network.load_state_dict(torch.load(model_filename, map_location=device))\n",
    "            self.optimizer.load_state_dict(torch.load(optimizer_filename, map_location=device))\n",
    "            self.replay_memory = torch.load(replay_filename, map_location=device)\n",
    "            stats = torch.load(stats_filename, map_location=device)\n",
    "            print(\"\\nCheckpoint loaded for episode {}\".format(episode))\n",
    "        except:\n",
    "            print (\"\\nCouldn't load checkpoint.\")\n",
    "            return 0\n",
    "        self.copy_network_weights()\n",
    "        return stats['total_steps']+1\n",
    "\n",
    "    def train(self, gamma, min_replay_memory_size, target_update_every, num_episodes, max_steps,\n",
    "              epsilon_start, num_steps_epsilon_decay, epsilon_end, batch_size, repeat_action, model_save_freq,\n",
    "              load_from_checkpoint=False, last_episode=0):\n",
    "        \"\"\"\n",
    "        Trains the DQN Agent\n",
    "\n",
    "        Args:\n",
    "            gamma: Discount Factor\n",
    "            min_replay_memory_size: Minimum size of replay memory\n",
    "            target_update_every: Copy weights from online network to target\n",
    "                                 network after this many (time) steps\n",
    "            num_episodes: Maximum number of episodes to train\n",
    "            max_steps: Maximum number of times to train\n",
    "            epsilon_start: Initial epsilon for epsilon-greedy policy\n",
    "            epsilon_end: Mininum value epsilon can go to\n",
    "            num_steps_epsilon_decay: Use epsilon decay for this many steps\n",
    "            batch_size: Batch size to sample from replay memory\n",
    "            repeat_action: Number of frames to repeat the last action\n",
    "            model_save_freq: Save the model and replay memory to disk after this many episodes\n",
    "            load_from_checkpoint: Whether to load model from checkpoint\n",
    "            last_episode: Number of episodes the agent was already trained on.\n",
    "                          Used for checkpoint name and initialize model weights\n",
    "        \"\"\"\n",
    "\n",
    "        Transition = namedtuple(\"Transition\", [\"state\", \"action\", \"reward\", \"next_state\", \"done\"])\n",
    "        \n",
    "        policy = get_epsilon_greedy_policy(self.target_network)\n",
    "        epsilons = np.linspace(epsilon_start, epsilon_end, num_steps_epsilon_decay)\n",
    "        total_steps = 0\n",
    "\n",
    "        if load_from_checkpoint:\n",
    "            total_steps = self.load_checkpoint(last_episode)\n",
    "\n",
    "        stats = {'starting_episode': last_episode+1,\n",
    "                 'epsilon': [],\n",
    "                 'training_losses': [],\n",
    "                 'episode_lengths': [],\n",
    "                 'episode_rewards': [],\n",
    "                 'total_steps': total_steps}\n",
    "\n",
    "        replay_memory_populated = False\n",
    "        \n",
    "        if len(self.replay_memory) >= min_replay_memory_size:\n",
    "            replay_memory_populated = True\n",
    "\n",
    "        episode_reward = 0\n",
    "        episode_length = 0\n",
    "        recent_rewards = deque(maxlen=100)\n",
    "        all_episodes = tqdm(range(last_episode + 1, num_episodes + 1), unit='episode', position=0, leave=True)\n",
    "        for episode_num in all_episodes:\n",
    "            recent_mean_score = np.round(np.mean(recent_rewards), 2) if len(recent_rewards) > 0 else 0.0\n",
    "            all_episodes.set_description(\"Training Steps: {}, Episode Score: {}, Recent Avg Score: {}\"\\\n",
    "                                         .format(total_steps, episode_reward, recent_mean_score))\n",
    "            total_loss = 0\n",
    "            episode_reward = 0\n",
    "            episode_length = 0\n",
    "\n",
    "            state, _, _, _ = take_step_and_preprocess(self.env)\n",
    "            state = torch.stack([state] * 4, axis=1)\n",
    "\n",
    "            while True: # Until eipsode finishes\n",
    "                epsilon = epsilons[min(total_steps, num_steps_epsilon_decay-1)]\n",
    "\n",
    "                # Choose and take action based on above policy\n",
    "                action_probs = policy(state, epsilon)\n",
    "                action = np.random.choice(np.arange(len(action_probs)), p=action_probs)\n",
    "\n",
    "                # Take one step into the environment (One hack to speed up training involved)\n",
    "                lives_before = self.env.ale.lives()\n",
    "                next_state, reward, done, info = take_step_and_preprocess(self.env, action, repeat_action)\n",
    "                lives_after = self.env.ale.lives()\n",
    "                # Losing life terminates the episode\n",
    "                replay_done = done if lives_before <= lives_after else True\n",
    "                next_state = next_state.unsqueeze(1)\n",
    "                next_state = torch.cat((state[:,1:,:,:], next_state), 1)\n",
    "                reward = torch.tensor([reward], device=device)\n",
    "                action = torch.tensor([action], device=device)\n",
    "                replay_done = torch.tensor([replay_done], device=device)\n",
    "\n",
    "                # Update replay memory\n",
    "                self.replay_memory.append((state,action,reward,next_state,replay_done))\n",
    "                state = next_state\n",
    "\n",
    "                # Move onto next step if replay memory not filled with minimum experience\n",
    "                # No training happens in this case\n",
    "                if len(self.replay_memory) < min_replay_memory_size:\n",
    "                    if done: break\n",
    "                    continue\n",
    "\n",
    "                # Training starts now\n",
    "                if not replay_memory_populated:\n",
    "                    print(\"\\nReplay memory filled with minimum experience.\")\n",
    "                    replay_memory_populated = True\n",
    "                    break\n",
    "\n",
    "                total_steps += 1\n",
    "\n",
    "                # Copy weights from online network to target network after every few steps\n",
    "                if total_steps % target_update_every == 0:\n",
    "                    self.copy_network_weights()\n",
    "\n",
    "                # Sample a random batch of experiences from replay memory\n",
    "                experience_sample = random.sample(self.replay_memory, batch_size)\n",
    "                batch = Transition(*zip(*experience_sample))\n",
    "                states_batch = torch.cat(batch.state)\n",
    "                actions_batch = torch.cat(batch.action)\n",
    "                rewards_batch = torch.cat(batch.reward)\n",
    "                next_states_batch = torch.cat(batch.next_state)\n",
    "                done_batch = torch.cat(batch.done)\n",
    "\n",
    "                # Get q_values of greedy targets for this batch\n",
    "                with torch.no_grad():\n",
    "                    next_q_values = self.target_network(next_states_batch)\n",
    "                targets_batch = rewards_batch + (~done_batch) * gamma * torch.max(next_q_values, 1)[0]\n",
    "\n",
    "                batch_size = states_batch.size(0)\n",
    "                predictions = self.online_network(states_batch)\n",
    "                \n",
    "                # Get the q_values of only current actions taken from states\n",
    "                action_indices = torch.arange(batch_size, device=device) * predictions.size(1) + actions_batch\n",
    "                action_predictions = torch.gather(predictions.view(-1), 0, action_indices)\n",
    "                \n",
    "                # Compute loss and optimize model\n",
    "                loss = self.loss(targets_batch, action_predictions)\n",
    "                self.optimizer.zero_grad()\n",
    "                loss.backward()\n",
    "                for param in self.online_network.parameters():\n",
    "                    param.grad.data.clamp_(-1, 1)\n",
    "                self.optimizer.step()\n",
    "\n",
    "                # Update Stats\n",
    "                total_loss += loss.item()\n",
    "                episode_reward += reward.item()\n",
    "                episode_length += 1\n",
    "\n",
    "                if done: break\n",
    "\n",
    "            if replay_memory_populated and episode_length > 0:\n",
    "                # Update stats\n",
    "                stats['epsilon'].append(epsilon)\n",
    "                stats['training_losses'].append(total_loss / episode_length)\n",
    "                stats['episode_rewards'].append(episode_reward)\n",
    "                stats['episode_lengths'].append(episode_length)\n",
    "                stats['total_steps'] = total_steps\n",
    "                recent_rewards.append(episode_reward)\n",
    "\n",
    "            if episode_num % model_save_freq == 0 or total_steps >= max_steps or episode_num == num_episodes:\n",
    "                self.create_checkpoint(episode_num, stats)\n",
    "            if total_steps >= max_steps:\n",
    "                break\n",
    "\n",
    "        print(\"\\nFinished\")\n",
    "        return stats"
   ]
  },
  {
   "cell_type": "markdown",
   "metadata": {
    "colab_type": "text",
    "id": "96FMwZTgubf6"
   },
   "source": [
    "#### Start training the agent\n",
    "Now, it's time to actually run the agent and see how it performs."
   ]
  },
  {
   "cell_type": "code",
   "execution_count": 0,
   "metadata": {
    "colab": {
     "base_uri": "https://localhost:8080/",
     "height": 102
    },
    "colab_type": "code",
    "id": "R8NKznBCLB2_",
    "outputId": "58eb8474-21ad-4551-9d24-5a3131b4258f"
   },
   "outputs": [
    {
     "name": "stderr",
     "output_type": "stream",
     "text": [
      "Training Steps: 691869, Episode Score: 0, Recent Avg Score: 0.0:   0%|          | 0/14000 [00:00<?, ?episode/s]"
     ]
    },
    {
     "name": "stdout",
     "output_type": "stream",
     "text": [
      "\n",
      "Checkpoint loaded for episode 6000\n"
     ]
    },
    {
     "name": "stderr",
     "output_type": "stream",
     "text": [
      "Training Steps: 995991, Episode Score: 19.0, Recent Avg Score: 12.78:  11%|█         | 1500/14000 [1:26:50<234:26:16, 67.52s/episode]"
     ]
    },
    {
     "name": "stdout",
     "output_type": "stream",
     "text": [
      "\n",
      "Checkpoint created for episode 7500\n"
     ]
    },
    {
     "name": "stderr",
     "output_type": "stream",
     "text": [
      "Training Steps: 1202248, Episode Score: 8.0, Recent Avg Score: 12.39:  18%|█▊        | 2485/14000 [2:23:33<9:10:51,  2.87s/episode]"
     ]
    }
   ],
   "source": [
    "agent = DQNAgent(env, replay_memory_size, exp_dir)\n",
    "\n",
    "stats = agent.train(gamma = gamma,\n",
    "                    min_replay_memory_size = min_replay_memory_size,\n",
    "                    target_update_every = target_update_every,\n",
    "                    num_episodes = num_episodes,\n",
    "                    max_steps = max_steps,\n",
    "                    epsilon_start = epsilon_start,\n",
    "                    num_steps_epsilon_decay = num_steps_epsilon_decay,\n",
    "                    epsilon_end = epsilon_end,\n",
    "                    batch_size = batch_size,\n",
    "                    repeat_action = repeat_action,\n",
    "                    model_save_freq = model_save_freq,\n",
    "                    load_from_checkpoint = True,\n",
    "                    last_episode = 7500)"
   ]
  },
  {
   "cell_type": "markdown",
   "metadata": {
    "colab_type": "text",
    "id": "J9Ci_h2VKYfr"
   },
   "source": [
    "## Let's check the training results"
   ]
  },
  {
   "cell_type": "markdown",
   "metadata": {
    "colab_type": "text",
    "id": "c3-h2RloyRhF"
   },
   "source": [
    "### Training Losses and Rewards"
   ]
  },
  {
   "cell_type": "code",
   "execution_count": 0,
   "metadata": {
    "colab": {},
    "colab_type": "code",
    "id": "0bifmf-xfQ2X"
   },
   "outputs": [],
   "source": [
    "all_losses = []\n",
    "all_rewards = []\n",
    "all_epsilons = []\n",
    "load_stats_from_file = True # Set this to true if want to load training statistics from files\n",
    "\n",
    "if load_stats_from_file:\n",
    "    last_episodes = [6000, 7500] # Update this list with every new run end episode\n",
    "    for episode in last_episodes:\n",
    "        stats_file = os.path.join(exp_dir, \"stats_{}.pt\".format(episode))\n",
    "        stats = torch.load(stats_file)\n",
    "        all_losses += stats[\"training_losses\"]\n",
    "        all_rewards += stats[\"episode_rewards\"]\n",
    "else:\n",
    "    all_losses += stats[\"training_losses\"]\n",
    "    all_rewards += stats[\"episode_rewards\"]"
   ]
  },
  {
   "cell_type": "code",
   "execution_count": 12,
   "metadata": {
    "colab": {
     "base_uri": "https://localhost:8080/",
     "height": 354
    },
    "colab_type": "code",
    "id": "VGJ-w10Dy5wc",
    "outputId": "c7e6b1eb-7516-4dc6-a8e5-018ee6a40ee0"
   },
   "outputs": [
    {
     "data": {
      "image/png": "[encoded data removed]",
      "text/plain": [
       "<Figure size 1080x360 with 2 Axes>"
      ]
     },
     "metadata": {
      "needs_background": "light",
      "tags": []
     },
     "output_type": "display_data"
    }
   ],
   "source": [
    "def plot_stats(losses, rewards):\n",
    "    losses = pd.Series(all_losses).rolling(100).mean()\n",
    "    rewards = pd.Series(all_rewards).rolling(100).mean()\n",
    "    fig = plt.figure(figsize=(15,5))\n",
    "    ax1 = fig.add_subplot(121)\n",
    "    ax2 = fig.add_subplot(122)\n",
    "\n",
    "    ax1.plot(rewards)\n",
    "    ax1.set_title(\"Episode returns over time (smoothing window = 200 episodes)\")\n",
    "    ax1.set_xlabel(\"Episode\")\n",
    "    ax1.set_ylabel(\"Total Episode Score\")\n",
    "\n",
    "    ax2.plot(losses)\n",
    "    ax2.set_title(\"Training loss over time (smoothing window = 200 episodes)\")\n",
    "    ax2.set_xlabel(\"Episode\")\n",
    "    ax2.set_ylabel(\"Training Loss\")\n",
    "    plt.show()\n",
    "\n",
    "plot_stats(all_losses, all_rewards)"
   ]
  },
  {
   "cell_type": "markdown",
   "metadata": {
    "colab_type": "text",
    "id": "mfC05wVUKBPi"
   },
   "source": [
    "### Let's see the agent's behaviour"
   ]
  },
  {
   "cell_type": "code",
   "execution_count": 0,
   "metadata": {
    "colab": {},
    "colab_type": "code",
    "id": "UQ3V_4Fa0mIX"
   },
   "outputs": [],
   "source": [
    "!apt-get install -y xvfb python-opengl x11-utils ffmpeg > /dev/null 2>&1\n",
    "!pip install pyvirtualdisplay > /dev/null 2>&1"
   ]
  },
  {
   "cell_type": "code",
   "execution_count": 0,
   "metadata": {
    "colab": {},
    "colab_type": "code",
    "id": "WJNJaX_r0nyc"
   },
   "outputs": [],
   "source": [
    "from gym.wrappers import Monitor\n",
    "from pyvirtualdisplay import Display\n",
    "display = Display(visible=0, size=(1400, 900))\n",
    "display_params = display.start()"
   ]
  },
  {
   "cell_type": "code",
   "execution_count": 0,
   "metadata": {
    "colab": {},
    "colab_type": "code",
    "id": "t1XrYtDa04Zr"
   },
   "outputs": [],
   "source": [
    "# This function to render gym environment in colab is taken from\n",
    "# https://colab.research.google.com/drive/1flu31ulJlgiRL1dnN2ir8wGh9p7Zij2t\n",
    "\n",
    "import math\n",
    "import glob\n",
    "import io\n",
    "import base64\n",
    "from IPython.display import HTML\n",
    "from IPython import display as ipythondisplay\n",
    "\n",
    "\"\"\"\n",
    "Utility functions to enable video recording of gym environment and displaying it\n",
    "To enable video, just do \"env = wrap_env(env)\"\"\n",
    "\"\"\"\n",
    "\n",
    "def show_video():\n",
    "  mp4list = glob.glob('video/*.mp4')\n",
    "  if len(mp4list) > 0:\n",
    "    mp4 = mp4list[0]\n",
    "    video = io.open(mp4, 'r+b').read()\n",
    "    encoded = base64.b64encode(video)\n",
    "    ipythondisplay.display(HTML(data='''<video alt=\"test\" autoplay \n",
    "                loop controls style=\"height: 400px;\">\n",
    "                <source src=\"data:video/mp4;base64,{0}\" type=\"video/mp4\" />\n",
    "             </video>'''.format(encoded.decode('ascii'))))\n",
    "  else: \n",
    "    print(\"Could not find video\")\n",
    "\n",
    "class MonitorNew(Monitor):\n",
    "    def __init__(self, env, directory, force=False):\n",
    "        self.env = env\n",
    "        super(MonitorNew, self).__init__(env, directory, force=force)\n",
    "\n",
    "    def _get_obs(self):\n",
    "        return self.env._get_obs()\n",
    "\n",
    "def wrap_env(env):\n",
    "    env = MonitorNew(env, './video', force=True)\n",
    "    return env"
   ]
  },
  {
   "cell_type": "code",
   "execution_count": 0,
   "metadata": {
    "colab": {},
    "colab_type": "code",
    "id": "o84N9CUJ05u2"
   },
   "outputs": [],
   "source": [
    "def show_episode(gym_env, policy, epsilon):\n",
    "    env = wrap_env(gym_env)\n",
    "    env.reset()\n",
    "    state, _, _, _ = take_step_and_preprocess(gym_env)\n",
    "    state = torch.stack([state] * 4, axis=1)\n",
    "    final_score = 0\n",
    "    t = 0\n",
    "    while True:\n",
    "        env.render()\n",
    "        action_probs = policy(state, epsilon)\n",
    "        action = np.random.choice(np.arange(len(action_probs)), p=action_probs)\n",
    "        next_state, reward, done, info = take_step_and_preprocess(env, action, repeat_action=4)\n",
    "        next_state = next_state.unsqueeze(1)\n",
    "        next_state = torch.cat((state[:,1:,:,:], next_state), 1)\n",
    "        final_score += reward\n",
    "        state = next_state\n",
    "        t += 1\n",
    "        if done:\n",
    "            print(\"Episode finished after {} timesteps\".format(t+1))\n",
    "            print(\"Final Score: {}\".format(int(final_score)))\n",
    "            break\n",
    "    env.close()\n",
    "    show_video()"
   ]
  },
  {
   "cell_type": "markdown",
   "metadata": {
    "colab_type": "text",
    "id": "gDFmV1Qj4sYw"
   },
   "source": [
    "#### Run the Agent"
   ]
  },
  {
   "cell_type": "code",
   "execution_count": 23,
   "metadata": {
    "colab": {
     "base_uri": "https://localhost:8080/",
     "height": 455
    },
    "colab_type": "code",
    "id": "6uaU9XX21C3M",
    "outputId": "8d93966e-73a1-4202-f537-9f03f925d8f6"
   },
   "outputs": [
    {
     "name": "stdout",
     "output_type": "stream",
     "text": [
      "Episode finished after 234 timesteps\n",
      "Final Score: 24\n"
     ]
    },
    {
     "data": {
      "text/html": [
       "<video alt=\"test\" autoplay \n",
       "                loop controls style=\"height: 400px;\">\n",
       "                <source src=\"data:video/mp4;base64,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\" type=\"video/mp4\" />\n",
       "             </video>"
      ],
      "text/plain": [
       "<IPython.core.display.HTML object>"
      ]
     },
     "metadata": {
      "tags": []
     },
     "output_type": "display_data"
    }
   ],
   "source": [
    "checkpoint_episode = 7500\n",
    "checkpoint_name = os.path.join(os.path.join(exp_dir, \"models\"), \"model_{}.pt\".format(checkpoint_episode))\n",
    "\n",
    "online_network = EstimatorNetwork(env).to(device)\n",
    "online_network.load_state_dict(torch.load(checkpoint_name, map_location=torch.device(device)))\n",
    "policy = get_epsilon_greedy_policy(online_network)\n",
    "show_episode(env, policy, epsilon=0.01)"
   ]
  },
  {
   "cell_type": "markdown",
   "metadata": {
    "colab_type": "text",
    "id": "XAvn2nhcwoMR"
   },
   "source": [
    "### Conclusion\n",
    "As mentioned in the DQN paper, the effect of replay memory is clear from the results. Since I was only able to use a small replay memory of size 80,000 the model was only able to achieve sub-optimal results. The DQN agent is only able to reach the average training score of 12-15 after training for 6000 episodes (more than 2 million frames). At the time of evaluation, due to greedy policy the agent is able to achieve the score of more than 20."
   ]
  }
 ],
 "metadata": {
  "colab": {
   "collapsed_sections": [
    "og9Q4TU85os5",
    "fzpYRM2m5vUk",
    "VqfeKFMK6MWR",
    "hgTCw-Vsypf_",
    "zmqliBbIOtu1",
    "BVtedR8SO45Z",
    "c3-h2RloyRhF",
    "mfC05wVUKBPi"
   ],
   "machine_shape": "hm",
   "name": "DQN_Breakout.ipynb",
   "provenance": []
  },
  "kernelspec": {
   "display_name": "Python 3",
   "language": "python",
   "name": "python3"
  },
  "language_info": {
   "codemirror_mode": {
    "name": "ipython",
    "version": 3
   },
   "file_extension": ".py",
   "mimetype": "text/x-python",
   "name": "python",
   "nbconvert_exporter": "python",
   "pygments_lexer": "ipython3",
   "version": "3.6.8"
  }
 },
 "nbformat": 4,
 "nbformat_minor": 1
}
