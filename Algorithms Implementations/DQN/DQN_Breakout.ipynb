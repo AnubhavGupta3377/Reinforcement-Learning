{
 "cells": [
  {
   "cell_type": "markdown",
   "metadata": {
    "colab_type": "text",
    "id": "du-B3NfH5i5C"
   },
   "source": [
    "# Deep Q-Networks (DQN)"
   ]
  },
  {
   "cell_type": "markdown",
   "metadata": {
    "colab_type": "text",
    "id": "og9Q4TU85os5"
   },
   "source": [
    "#### Google Drive directory for project (Google Colab Specific)\n",
    "\n",
    "Required if you need to save the model checkpoints in google drive. I also save the replay memory after every few episodes."
   ]
  },
  {
   "cell_type": "code",
   "execution_count": 43,
   "metadata": {
    "colab": {
     "base_uri": "https://localhost:8080/",
     "height": 34
    },
    "colab_type": "code",
    "id": "RL0-2DnC5fK_",
    "outputId": "48ee5398-6260-46ff-ca68-fdae96bc695e"
   },
   "outputs": [
    {
     "name": "stdout",
     "output_type": "stream",
     "text": [
      "Drive already mounted at /content/gdrive; to attempt to forcibly remount, call drive.mount(\"/content/gdrive\", force_remount=True).\n"
     ]
    }
   ],
   "source": [
    "from google.colab import drive\n",
    "drive.mount('/content/gdrive')"
   ]
  },
  {
   "cell_type": "markdown",
   "metadata": {
    "colab_type": "text",
    "id": "fzpYRM2m5vUk"
   },
   "source": [
    "#### Import Libraries"
   ]
  },
  {
   "cell_type": "code",
   "execution_count": 0,
   "metadata": {
    "colab": {},
    "colab_type": "code",
    "id": "PdJIjZju5r6b"
   },
   "outputs": [],
   "source": [
    "import numpy as np\n",
    "import pandas as pd\n",
    "import os\n",
    "import random\n",
    "import sys\n",
    "import psutil\n",
    "from tqdm import tqdm\n",
    "from collections import deque, namedtuple\n",
    "from PIL import Image\n",
    "import torch\n",
    "import torch.nn as nn\n",
    "import torch.optim as optim\n",
    "import torchvision.transforms as T\n",
    "import torch.nn.functional as F\n",
    "import gym\n",
    "from gym import logger as gymlogger\n",
    "import matplotlib\n",
    "import matplotlib.pyplot as plt\n",
    "\n",
    "matplotlib.style.use('ggplot')\n",
    "gymlogger.set_level(40) #error only\n",
    "%matplotlib inline\n",
    "\n",
    "device = torch.device(\"cuda\" if torch.cuda.is_available() else \"cpu\")"
   ]
  },
  {
   "cell_type": "markdown",
   "metadata": {
    "colab_type": "text",
    "id": "VqfeKFMK6MWR"
   },
   "source": [
    "#### Environment, Constants and Model Parameters"
   ]
  },
  {
   "cell_type": "code",
   "execution_count": 3,
   "metadata": {
    "colab": {
     "base_uri": "https://localhost:8080/",
     "height": 0
    },
    "colab_type": "code",
    "id": "HrP59epOoY2u",
    "outputId": "a21e98b7-1005-406d-c203-da74e83a4411"
   },
   "outputs": [
    {
     "name": "stdout",
     "output_type": "stream",
     "text": [
      "Box(210, 160, 3)\n",
      "Discrete(4)\n",
      "['NOOP', 'FIRE', 'RIGHT', 'LEFT']\n"
     ]
    }
   ],
   "source": [
    "env = gym.make(\"Breakout-v0\").env\n",
    "\n",
    "print(env.observation_space)\n",
    "print(env.action_space)\n",
    "print(env.get_action_meanings())"
   ]
  },
  {
   "cell_type": "code",
   "execution_count": 0,
   "metadata": {
    "colab": {},
    "colab_type": "code",
    "id": "tz1rK3nfIt7J"
   },
   "outputs": [],
   "source": [
    "# Constants\n",
    "TEST_MODULES = False # Whether to run test cases for individual modules\n",
    "INPUT_SHAPE = env.observation_space.shape # (210,160,3) For Atari Games\n",
    "PREPROCESSED_STATE_SHAPE = (84,84)\n",
    "NUM_ACTIONS = env.action_space.n\n",
    "\n",
    "# Parameters\n",
    "gamma = 0.99\n",
    "replay_memory_size = 80_000\n",
    "min_replay_memory_size = 30_000\n",
    "target_update_every = 5_000\n",
    "num_episodes = 20_000\n",
    "max_steps = 10_000_000\n",
    "epsilon_start = 1.0\n",
    "epsilon_end = 0.1\n",
    "num_steps_epsilon_decay = 1_000_000\n",
    "batch_size = 64\n",
    "model_save_freq = 500 # Episodes\n",
    "exp_dir = \"/content/gdrive/My Drive/Colab Files/dqn_breakout\""
   ]
  },
  {
   "cell_type": "markdown",
   "metadata": {
    "colab_type": "text",
    "id": "hgTCw-Vsypf_"
   },
   "source": [
    "#### Preprocess Atari Image"
   ]
  },
  {
   "cell_type": "code",
   "execution_count": 0,
   "metadata": {
    "colab": {},
    "colab_type": "code",
    "id": "Pg08EUznys29"
   },
   "outputs": [],
   "source": [
    "resize = T.Compose([T.ToPILImage(),\n",
    "                    T.Grayscale(),\n",
    "                    T.Resize(PREPROCESSED_STATE_SHAPE, interpolation=Image.CUBIC),\n",
    "                    T.ToTensor()])\n",
    "\n",
    "def preprocess_atari_state(state):\n",
    "    \"\"\"\n",
    "    Converts raw atari state from (210 x 160 x 3) -> (84 x 84)\n",
    "    \"\"\"\n",
    "    screen = state.transpose((2, 0, 1))\n",
    "    screen = screen[:, 50:200, 5:155] # For Breakout\n",
    "    screen = np.ascontiguousarray(screen, dtype=np.float32) / 255\n",
    "    screen = torch.from_numpy(screen)\n",
    "    resized = resize(screen)\n",
    "    return resized.to(device)"
   ]
  },
  {
   "cell_type": "code",
   "execution_count": 0,
   "metadata": {
    "colab": {},
    "colab_type": "code",
    "id": "XZWWw6kIE1cR"
   },
   "outputs": [],
   "source": [
    "def test_preprocessing():\n",
    "    state = env.reset()\n",
    "    preprocessed_image = preprocess_atari_state(state)\n",
    "    assert preprocessed_image.shape==(1,84,84), \"Preprocessed image not of desired size\"\n",
    "    print(\"Test: OK\")\n",
    "\n",
    "if TEST_MODULES: test_preprocessing()"
   ]
  },
  {
   "cell_type": "markdown",
   "metadata": {
    "colab_type": "text",
    "id": "zmqliBbIOtu1"
   },
   "source": [
    "#### Estimator Network\n",
    "- This network is used by both online network and target network\n",
    "- Both networks have different weights"
   ]
  },
  {
   "cell_type": "code",
   "execution_count": 0,
   "metadata": {
    "colab": {},
    "colab_type": "code",
    "id": "mYHMFwJ4iptS"
   },
   "outputs": [],
   "source": [
    "class EstimatorNetwork(nn.Module):\n",
    "    \"\"\"\n",
    "    Neural network used by online network and target network \n",
    "    \"\"\"\n",
    "    def __init__(self, env):\n",
    "        super(EstimatorNetwork, self).__init__()\n",
    "        self.env = env\n",
    "        num_actions = env.action_space.n\n",
    "        self.model = nn.Sequential(\n",
    "            nn.Conv2d(4, 32, 8, 4),\n",
    "            nn.BatchNorm2d(32),\n",
    "            nn.ReLU(),\n",
    "            nn.Conv2d(32, 64, 4, 2),\n",
    "            nn.BatchNorm2d(64),\n",
    "            nn.ReLU(),\n",
    "            nn.Conv2d(64, 64, 3, 1),\n",
    "            nn.BatchNorm2d(64),\n",
    "            nn.ReLU(),\n",
    "            nn.Flatten(),\n",
    "            nn.Linear(3136, 512),\n",
    "            nn.ReLU(),\n",
    "            nn.Linear(512, num_actions)\n",
    "        )\n",
    "    \n",
    "    def forward(self, states):\n",
    "        return self.model(states)"
   ]
  },
  {
   "cell_type": "code",
   "execution_count": 0,
   "metadata": {
    "colab": {},
    "colab_type": "code",
    "id": "9IGyWtBWN3HO"
   },
   "outputs": [],
   "source": [
    "# Test that the network actually learns\n",
    "def test_estimator_network():\n",
    "    estimator = EstimatorNetwork(env).to(device)\n",
    "    observation = env.reset()\n",
    "    observation = preprocess_atari_state(observation)\n",
    "    observations = torch.cat((observation, observation), 0)\n",
    "    observations = torch.stack([observations] * 4, axis=1)\n",
    "\n",
    "    y = torch.tensor([[10.0,10.0,10.0,10.0,10.0,10.0],[10.0,10.0,10.0,10.0,10.0,10.0]], device=device)\n",
    "    optimizer = torch.optim.Adam(estimator.parameters(), lr=0.1)\n",
    "    for i in range(200):\n",
    "        predictions = estimator(observations)\n",
    "        loss = F.smooth_l1_loss(predictions, y)\n",
    "        optimizer.zero_grad()\n",
    "        loss.backward()\n",
    "        optimizer.step()\n",
    "\n",
    "    new_preds = estimator(observations)\n",
    "    assert max(new_preds[0]) < 11 and min(new_preds[0]) > 9, \"Test failed for update\"\n",
    "    assert max(new_preds[1]) < 11 and min(new_preds[1]) > 9, \"Test failed for update\"\n",
    "    print(\"Test2: OK\")\n",
    "\n",
    "if TEST_MODULES: test_estimator_network()"
   ]
  },
  {
   "cell_type": "markdown",
   "metadata": {
    "colab_type": "text",
    "id": "BVtedR8SO45Z"
   },
   "source": [
    "#### DQN Agent"
   ]
  },
  {
   "cell_type": "code",
   "execution_count": 0,
   "metadata": {
    "colab": {},
    "colab_type": "code",
    "id": "_xTRVMUT_QFT"
   },
   "outputs": [],
   "source": [
    "def get_epsilon_greedy_policy(estimator):\n",
    "    \"\"\"\n",
    "    Make an epsilon-greedy policy from given Q-values\n",
    "    Returns:\n",
    "        policy: epsilon-greedy policy which takes random action with\n",
    "                probability epsilon/num_actions, otherwise takes\n",
    "                greedy action\n",
    "    \"\"\"\n",
    "    def policy(state, epsilon):\n",
    "        with torch.no_grad():\n",
    "            q_values = estimator(state)\n",
    "        num_actions = q_values.size(1)\n",
    "        greedy_action = torch.argmax(q_values).item()\n",
    "        action_probs = np.ones((num_actions)) * (epsilon/num_actions)\n",
    "        action_probs[greedy_action] += 1-epsilon\n",
    "        return action_probs\n",
    "    \n",
    "    return policy"
   ]
  },
  {
   "cell_type": "code",
   "execution_count": 0,
   "metadata": {
    "colab": {},
    "colab_type": "code",
    "id": "853mlm5DoefU"
   },
   "outputs": [],
   "source": [
    "class DQNAgent:\n",
    "    def __init__(self, env, replay_memory_size, exp_dir):\n",
    "        \"\"\"\n",
    "        Initialize the deep Q-learning agent. Main components of DQN include\n",
    "        - two estimator networks\n",
    "            1. Online network\n",
    "            2. Target network\n",
    "        - replay memory\n",
    "\n",
    "        Args:\n",
    "            replay_memory_size: Size of replay memory\n",
    "            exp_dir: Experiemnt directory\n",
    "        \"\"\"\n",
    "\n",
    "        # DQN components\n",
    "        self.env = env\n",
    "        self.online_network = EstimatorNetwork(env).to(device)\n",
    "        self.target_network = EstimatorNetwork(env).to(device)\n",
    "        self.replay_memory = deque(maxlen=replay_memory_size)\n",
    "        self.target_network.load_state_dict(self.online_network.state_dict())\n",
    "        self.target_network.eval()\n",
    "\n",
    "        # Optimizer to be used for training\n",
    "        self.optimizer = torch.optim.Adam(self.online_network.parameters(), lr=0.00025, betas=(0.95,0.95), eps=0.01)\n",
    "        self.exp_dir = exp_dir\n",
    "\n",
    "    def copy_network_weights(self):\n",
    "        self.target_network.load_state_dict(self.online_network.state_dict())\n",
    "\n",
    "    def create_checkpoint(self, episode, stats):\n",
    "        model_dir = os.path.join(exp_dir, \"models\")\n",
    "        model_filename = os.path.join(model_dir, \"model_{}.pt\".format(episode))\n",
    "        replay_filename = os.path.join(exp_dir, \"replay_{}.pt\".format(episode))\n",
    "        stats_filename = os.path.join(exp_dir, \"stats_{}.pt\".format(episode))\n",
    "        try:\n",
    "            torch.save(self.online_network.state_dict(), model_filename)\n",
    "            torch.save(self.replay_memory, replay_filename)\n",
    "            torch.save(stats, stats_filename)\n",
    "            print(\"\\nCheckpoint created for episode {}\".format(episode))\n",
    "        except:\n",
    "            print (\"\\nCouldn't create checkpoint.\")\n",
    "\n",
    "    def load_checkpoint(self, episode):\n",
    "        model_dir = os.path.join(exp_dir, \"models\")\n",
    "        model_filename = os.path.join(model_dir, \"model_{}.pt\".format(episode))\n",
    "        replay_filename = os.path.join(exp_dir, \"replay_{}.pt\".format(episode))\n",
    "        stats_filename = os.path.join(exp_dir, \"stats_{}.pt\".format(episode))\n",
    "        try:\n",
    "            self.online_network.load_state_dict(torch.load(model_filename, map_location=device))\n",
    "            self.replay_memory = torch.load(replay_filename, map_location=device)\n",
    "            stats = torch.load(stats_filename, map_location=device)\n",
    "            print(\"\\nCheckpoint loaded for episode {}\".format(episode))\n",
    "        except:\n",
    "            print (\"\\nCouldn't load checkpoint.\")\n",
    "            return 0\n",
    "        self.copy_network_weights()\n",
    "        return stats['total_steps']+1\n",
    "\n",
    "    def train(self, gamma, min_replay_memory_size, target_update_every, num_episodes, max_steps,\n",
    "              epsilon_start, num_steps_epsilon_decay, epsilon_end, batch_size, model_save_freq,\n",
    "              load_from_checkpoint=False, last_episode=0):\n",
    "        \"\"\"\n",
    "        Trains the DQN Agent\n",
    "\n",
    "        Args:\n",
    "            gamma: Discount Factor\n",
    "            min_replay_memory_size: Minimum size of replay memory\n",
    "            target_update_every: Copy weights from online network to target\n",
    "                                 network after this many (time) steps\n",
    "            num_episodes: Maximum number of episodes to train\n",
    "            max_steps: Maximum number of times to train\n",
    "            epsilon_start: Initial epsilon for epsilon-greedy policy\n",
    "            epsilon_end: Mininum value epsilon can go to\n",
    "            num_steps_epsilon_decay: Use epsilon decay for this many steps\n",
    "            batch_size: Batch size to sample from replay memory\n",
    "            model_save_freq: Save the model and replay memory to disk after this many episodes\n",
    "            load_from_checkpoint: Whether to load model from checkpoint\n",
    "            last_episode: Number of episodes the agent was already trained on.\n",
    "                          Used for checkpoint name and initialize model weights\n",
    "        \"\"\"\n",
    "\n",
    "        Transition = namedtuple(\"Transition\", [\"state\", \"action\", \"reward\", \"next_state\", \"done\"])\n",
    "        \n",
    "        policy = get_epsilon_greedy_policy(self.target_network)\n",
    "        epsilons = np.linspace(epsilon_start, epsilon_end, num_steps_epsilon_decay)\n",
    "        total_steps = 0\n",
    "\n",
    "        if load_from_checkpoint:\n",
    "            total_steps = self.load_checkpoint(last_episode)\n",
    "\n",
    "        stats = {'starting_episode': last_episode+1,\n",
    "                 'epsilon': [],\n",
    "                 'training_losses': [],\n",
    "                 'episode_lengths': [],\n",
    "                 'episode_rewards': [],\n",
    "                 'total_steps': total_steps}\n",
    "\n",
    "        replay_memory_populated = False\n",
    "        \n",
    "        if len(self.replay_memory) >= min_replay_memory_size:\n",
    "            replay_memory_populated = True\n",
    "\n",
    "        episode_reward = 0\n",
    "        episode_length = 0\n",
    "        all_episodes = tqdm(range(last_episode + 1, num_episodes + 1), unit='episode', position=0, leave=True)\n",
    "        for episode_num in all_episodes:\n",
    "            all_episodes.set_description(\"Total Steps: {}, Episode Score: {}\".format(total_steps, episode_reward))\n",
    "            total_loss = 0\n",
    "            episode_reward = 0\n",
    "            episode_length = 0\n",
    "\n",
    "            state = self.env.reset()\n",
    "            state = preprocess_atari_state(state)\n",
    "            state = torch.stack([state] * 4, axis=1)\n",
    "\n",
    "            while True: # Until eipsode finishes\n",
    "                epsilon = epsilons[min(total_steps, num_steps_epsilon_decay-1)]\n",
    "\n",
    "                # Choose and take action based on above policy\n",
    "                action_probs = policy(state, epsilon)\n",
    "                action = np.random.choice(np.arange(len(action_probs)), p=action_probs)\n",
    "\n",
    "                # Take one step into the environment (One hack to speed up training involved)\n",
    "                lives_before = self.env.ale.lives()\n",
    "                next_state, reward, done, info = self.env.step(action)\n",
    "                lives_after = self.env.ale.lives()\n",
    "                # Losing life terminates the episode\n",
    "                replay_done = done if lives_before <= lives_after else True\n",
    "                next_state = preprocess_atari_state(next_state).unsqueeze(1)\n",
    "                next_state = torch.cat((state[:,1:,:,:], next_state), 1)\n",
    "                reward = torch.tensor([reward], device=device)\n",
    "                action = torch.tensor([action], device=device)\n",
    "                replay_done = torch.tensor([replay_done], device=device)\n",
    "\n",
    "                # Update replay memory\n",
    "                self.replay_memory.append((state,action,reward,next_state,replay_done))\n",
    "                state = next_state\n",
    "\n",
    "                # Move onto next step if replay memory not filled with minimum experience\n",
    "                # No training happens in this case\n",
    "                if len(self.replay_memory) < min_replay_memory_size:\n",
    "                    if done: break\n",
    "                    continue\n",
    "\n",
    "                # Training starts now\n",
    "                if not replay_memory_populated:\n",
    "                    print(\"\\nReplay memory filled with minimum experience.\")\n",
    "                    replay_memory_populated = True\n",
    "\n",
    "                total_steps += 1\n",
    "\n",
    "                # Copy weights from online network to target network after every few steps\n",
    "                if total_steps % target_update_every == 0:\n",
    "                    self.copy_network_weights()\n",
    "\n",
    "                # Sample a random batch of experiences from replay memory\n",
    "                experience_sample = random.sample(self.replay_memory, batch_size)\n",
    "                batch = Transition(*zip(*experience_sample))\n",
    "                states_batch = torch.cat(batch.state)\n",
    "                actions_batch = torch.cat(batch.action)\n",
    "                rewards_batch = torch.cat(batch.reward)\n",
    "                next_states_batch = torch.cat(batch.next_state)\n",
    "                done_batch = torch.cat(batch.done)\n",
    "\n",
    "                # Get q_values of greedy targets for this batch\n",
    "                with torch.no_grad():\n",
    "                    next_q_values = self.target_network(next_states_batch)\n",
    "                targets_batch = rewards_batch + (~done_batch) * gamma * torch.max(next_q_values, 1)[0]\n",
    "\n",
    "                batch_size = states_batch.size(0)\n",
    "                predictions = self.online_network(states_batch)\n",
    "                \n",
    "                # Get the q_values of only current actions taken from states\n",
    "                action_indices = torch.arange(batch_size, device=device) * predictions.size(1) + actions_batch\n",
    "                action_predictions = torch.gather(predictions.view(-1), 0, action_indices)\n",
    "                \n",
    "                # Compute loss and optimize model\n",
    "                loss = F.smooth_l1_loss(action_predictions, targets_batch)\n",
    "                self.optimizer.zero_grad()\n",
    "                loss.backward()\n",
    "                for param in self.online_network.parameters():\n",
    "                    param.grad.data.clamp_(-1, 1)\n",
    "                self.optimizer.step()\n",
    "\n",
    "                # Update Stats\n",
    "                total_loss += loss.item()\n",
    "                episode_reward += reward.item()\n",
    "                episode_length += 1\n",
    "\n",
    "                if done: break\n",
    "\n",
    "            if replay_memory_populated:\n",
    "                # Update stats\n",
    "                stats['epsilon'].append(epsilon)\n",
    "                stats['training_losses'].append(total_loss / episode_length)\n",
    "                stats['episode_rewards'].append(episode_reward)\n",
    "                stats['episode_lengths'].append(episode_length)\n",
    "                stats['total_steps'] = total_steps\n",
    "\n",
    "            if episode_num % model_save_freq == 0 or total_steps >= max_steps or episode_num == num_episodes:\n",
    "                self.create_checkpoint(episode_num, stats)\n",
    "            if total_steps >= max_steps:\n",
    "                break\n",
    "\n",
    "        print(\"\\nFinished\")\n",
    "        return stats"
   ]
  },
  {
   "cell_type": "markdown",
   "metadata": {
    "colab_type": "text",
    "id": "96FMwZTgubf6"
   },
   "source": [
    "#### Start training the agent\n",
    "Now, it's time to actually run the agent and see how it performs."
   ]
  },
  {
   "cell_type": "code",
   "execution_count": 0,
   "metadata": {
    "colab": {},
    "colab_type": "code",
    "id": "R8NKznBCLB2_"
   },
   "outputs": [],
   "source": [
    "agent = DQNAgent(env, replay_memory_size, exp_dir)\n",
    "\n",
    "stats = agent.train(gamma = gamma,\n",
    "                    min_replay_memory_size = min_replay_memory_size,\n",
    "                    target_update_every = target_update_every,\n",
    "                    num_episodes = num_episodes,\n",
    "                    max_steps = max_steps,\n",
    "                    epsilon_start = epsilon_start,\n",
    "                    num_steps_epsilon_decay = num_steps_epsilon_decay,\n",
    "                    epsilon_end = epsilon_end,\n",
    "                    batch_size = batch_size,\n",
    "                    model_save_freq = model_save_freq)"
   ]
  },
  {
   "cell_type": "markdown",
   "metadata": {
    "colab_type": "text",
    "id": "J9Ci_h2VKYfr"
   },
   "source": [
    "## Let's check the training results"
   ]
  },
  {
   "cell_type": "markdown",
   "metadata": {
    "colab_type": "text",
    "id": "c3-h2RloyRhF"
   },
   "source": [
    "### Training Losses and Rewards"
   ]
  },
  {
   "cell_type": "code",
   "execution_count": 0,
   "metadata": {
    "colab": {},
    "colab_type": "code",
    "id": "0bifmf-xfQ2X"
   },
   "outputs": [],
   "source": [
    "all_losses = []\n",
    "all_rewards = []\n",
    "all_epsilons = []\n",
    "load_stats_from_file = True # Set this to true if want to load training statistics from files\n",
    "\n",
    "if load_stats_from_file:\n",
    "    last_episodes = [500, 600, 800, 4000, 6500, 6700, 9000, 12000] # Update this list with every new run end episode\n",
    "    for episode in last_episodes:\n",
    "        stats_file = os.path.join(exp_dir, \"stats_{}.pt\".format(episode))\n",
    "        stats = torch.load(stats_file)\n",
    "        all_losses += stats[\"training_losses\"]\n",
    "        all_rewards += stats[\"episode_rewards\"]\n",
    "else:\n",
    "    all_losses += stats[\"training_losses\"]\n",
    "    all_rewards += stats[\"episode_rewards\"]"
   ]
  },
  {
   "cell_type": "code",
   "execution_count": 42,
   "metadata": {
    "colab": {
     "base_uri": "https://localhost:8080/",
     "height": 354
    },
    "colab_type": "code",
    "id": "VGJ-w10Dy5wc",
    "outputId": "fe15a7cc-6df6-4b54-a172-4848d4a79193"
   },
   "outputs": [
    {
     "data": {
      "image/png": "[encoded data removed]",
      "text/plain": [
       "<Figure size 1080x360 with 2 Axes>"
      ]
     },
     "metadata": {
      "needs_background": "light",
      "tags": []
     },
     "output_type": "display_data"
    }
   ],
   "source": [
    "def plot_stats(losses, rewards):\n",
    "    losses = pd.Series(all_losses).rolling(200).mean()\n",
    "    rewards = pd.Series(all_rewards).rolling(200).mean()\n",
    "    fig = plt.figure(figsize=(15,5))\n",
    "    ax1 = fig.add_subplot(121)\n",
    "    ax2 = fig.add_subplot(122)\n",
    "\n",
    "    ax1.plot(rewards)\n",
    "    ax1.set_title(\"Episode returns over time (smoothing window = 200 episodes)\")\n",
    "    ax1.set_xlabel(\"Episode\")\n",
    "    ax1.set_ylabel(\"Total Episode Score\")\n",
    "\n",
    "    ax2.plot(losses)\n",
    "    ax2.set_title(\"Training loss over time (smoothing window = 200 episodes)\")\n",
    "    ax2.set_xlabel(\"Episode\")\n",
    "    ax2.set_ylabel(\"Training Loss\")\n",
    "    plt.show()\n",
    "\n",
    "plot_stats(all_losses, all_rewards)"
   ]
  },
  {
   "cell_type": "markdown",
   "metadata": {
    "colab_type": "text",
    "id": "mfC05wVUKBPi"
   },
   "source": [
    "### Let's see the agent's behaviour"
   ]
  },
  {
   "cell_type": "code",
   "execution_count": 0,
   "metadata": {
    "colab": {},
    "colab_type": "code",
    "id": "UQ3V_4Fa0mIX"
   },
   "outputs": [],
   "source": [
    "!apt-get install -y xvfb python-opengl x11-utils ffmpeg > /dev/null 2>&1\n",
    "!pip install pyvirtualdisplay > /dev/null 2>&1"
   ]
  },
  {
   "cell_type": "code",
   "execution_count": 0,
   "metadata": {
    "colab": {},
    "colab_type": "code",
    "id": "WJNJaX_r0nyc"
   },
   "outputs": [],
   "source": [
    "from gym.wrappers import Monitor\n",
    "from pyvirtualdisplay import Display\n",
    "display = Display(visible=0, size=(1400, 900))\n",
    "display_params = display.start()"
   ]
  },
  {
   "cell_type": "code",
   "execution_count": 0,
   "metadata": {
    "colab": {},
    "colab_type": "code",
    "id": "t1XrYtDa04Zr"
   },
   "outputs": [],
   "source": [
    "# This function to render gym environment in colab is taken from\n",
    "# https://colab.research.google.com/drive/1flu31ulJlgiRL1dnN2ir8wGh9p7Zij2t\n",
    "\n",
    "import math\n",
    "import glob\n",
    "import io\n",
    "import base64\n",
    "from IPython.display import HTML\n",
    "from IPython import display as ipythondisplay\n",
    "\n",
    "\"\"\"\n",
    "Utility functions to enable video recording of gym environment and displaying it\n",
    "To enable video, just do \"env = wrap_env(env)\"\"\n",
    "\"\"\"\n",
    "\n",
    "def show_video():\n",
    "  mp4list = glob.glob('video/*.mp4')\n",
    "  if len(mp4list) > 0:\n",
    "    mp4 = mp4list[0]\n",
    "    video = io.open(mp4, 'r+b').read()\n",
    "    encoded = base64.b64encode(video)\n",
    "    ipythondisplay.display(HTML(data='''<video alt=\"test\" autoplay \n",
    "                loop controls style=\"height: 400px;\">\n",
    "                <source src=\"data:video/mp4;base64,{0}\" type=\"video/mp4\" />\n",
    "             </video>'''.format(encoded.decode('ascii'))))\n",
    "  else: \n",
    "    print(\"Could not find video\")\n",
    "\n",
    "def wrap_env(env):\n",
    "  env = Monitor(env, './video', force=True)\n",
    "  return env"
   ]
  },
  {
   "cell_type": "code",
   "execution_count": 0,
   "metadata": {
    "colab": {},
    "colab_type": "code",
    "id": "o84N9CUJ05u2"
   },
   "outputs": [],
   "source": [
    "def show_episode(gym_env, policy, epsilon):\n",
    "    env = wrap_env(gym_env)\n",
    "    state = env.reset()\n",
    "    state = preprocess_atari_state(state)\n",
    "    state = torch.stack([state] * 4, axis=1)\n",
    "    final_score = 0\n",
    "    for t in range(5000):\n",
    "        env.render()\n",
    "        action_probs = policy(state, epsilon)\n",
    "        action = np.random.choice(np.arange(len(action_probs)), p=action_probs)\n",
    "        next_state, reward, done, info = env.step(action)\n",
    "        next_state = preprocess_atari_state(next_state).unsqueeze(1)\n",
    "        next_state = torch.cat((state[:,1:,:,:], next_state), 1)\n",
    "        final_score += reward\n",
    "        state = next_state\n",
    "        if done:\n",
    "            print(\"Episode finished after {} timesteps\".format(t+1))\n",
    "            print(\"Final Score: {}\".format(int(final_score)))\n",
    "            break\n",
    "    env.close()\n",
    "    show_video()"
   ]
  },
  {
   "cell_type": "markdown",
   "metadata": {
    "colab_type": "text",
    "id": "gDFmV1Qj4sYw"
   },
   "source": [
    "#### Run the Agent"
   ]
  },
  {
   "cell_type": "code",
   "execution_count": 38,
   "metadata": {
    "colab": {
     "base_uri": "https://localhost:8080/",
     "height": 455
    },
    "colab_type": "code",
    "id": "6uaU9XX21C3M",
    "outputId": "53f3cb5a-e07a-43c2-dda2-ae909a3ecff1"
   },
   "outputs": [
    {
     "name": "stdout",
     "output_type": "stream",
     "text": [
      "Episode finished after 879 timesteps\n",
      "Final Score: 15\n"
     ]
    },
    {
     "data": {
      "text/html": [
       "<video alt=\"test\" autoplay \n",
       "                loop controls style=\"height: 400px;\">\n",
       "                <source src=\"data:video/mp4;base64,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\" type=\"video/mp4\" />\n",
       "             </video>"
      ],
      "text/plain": [
       "<IPython.core.display.HTML object>"
      ]
     },
     "metadata": {
      "tags": []
     },
     "output_type": "display_data"
    }
   ],
   "source": [
    "checkpoint_episode = 12000\n",
    "checkpoint_name = os.path.join(os.path.join(exp_dir, \"models\"), \"model_{}.pt\".format(checkpoint_episode))\n",
    "\n",
    "online_network = EstimatorNetwork(env).to(device)\n",
    "online_network.eval()\n",
    "online_network.load_state_dict(torch.load(checkpoint_name, map_location=torch.device(device)))\n",
    "policy = get_epsilon_greedy_policy(online_network)\n",
    "show_episode(env, policy, epsilon=0.01)"
   ]
  },
  {
   "cell_type": "markdown",
   "metadata": {
    "colab_type": "text",
    "id": "XAvn2nhcwoMR"
   },
   "source": [
    "### Conclusion\n",
    "As mentioned in the DQN paper, the effect of replay memory is clear from the results. Since I was only able to use a small replay memory of size 80,000 the model was only able to achieve sub-optimal results. The DQN agent is only able to reach the score of 10-15 after training for 12000 episodes (more than 6.6M frames)."
   ]
  }
 ],
 "metadata": {
  "colab": {
   "collapsed_sections": [
    "og9Q4TU85os5",
    "fzpYRM2m5vUk",
    "VqfeKFMK6MWR",
    "hgTCw-Vsypf_",
    "zmqliBbIOtu1",
    "BVtedR8SO45Z"
   ],
   "machine_shape": "hm",
   "name": "DQN_Breakout.ipynb",
   "provenance": []
  },
  "kernelspec": {
   "display_name": "Python 3",
   "language": "python",
   "name": "python3"
  },
  "language_info": {
   "codemirror_mode": {
    "name": "ipython",
    "version": 3
   },
   "file_extension": ".py",
   "mimetype": "text/x-python",
   "name": "python",
   "nbconvert_exporter": "python",
   "pygments_lexer": "ipython3",
   "version": "3.6.8"
  }
 },
 "nbformat": 4,
 "nbformat_minor": 1
}
